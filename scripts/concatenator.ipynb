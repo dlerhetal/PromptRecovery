{
 "cells": [
  {
   "cell_type": "code",
   "execution_count": 2,
   "id": "a62e1f83",
   "metadata": {},
   "outputs": [],
   "source": [
    "import pandas as pd"
   ]
  },
  {
   "cell_type": "code",
   "execution_count": null,
   "id": "a78258cf",
   "metadata": {},
   "outputs": [],
   "source": [
    "# UNUSED FILES\n",
    "unclean = {\n",
    "    'prose':[],\n",
    "    'nonfiction':['WikiTV2023.csv','WikiEspGDC.csv','WikiEspAI.csv'],\n",
    "    'misc':[],\n",
    "    'interrogative':[],\n",
    "    'fiction':['wikiAH_clean.csv'],\n",
    "    'declarative':[],\n",
    "    'colloquial':[]\n",
    "}\n",
    "\n",
    "alrdy_clean = {\n",
    "    'prose':[],\n",
    "    'nonfiction':[],\n",
    "    'misc':[],\n",
    "    'interrogative':[],\n",
    "    'fiction':['essays_clean.csv',],\n",
    "    'declarative':['bible_clean.csv'],\n",
    "    'colloquial':[]\n",
    "}"
   ]
  },
  {
   "cell_type": "code",
   "execution_count": 3,
   "id": "cbf503cf",
   "metadata": {},
   "outputs": [],
   "source": [
    "# FILES IN BLEND\n",
    "files = {\n",
    "    'prose':['psalms_clean.csv'],\n",
    "    'nonfiction':['case_law.csv','med_trans_clean.csv'],\n",
    "    'misc':['code.csv','hellaSwag_clean.csv'],\n",
    "    'interrogative':['sat_qstns_clean.csv'],\n",
    "    'fiction':['movie_summs_clean.csv'],\n",
    "    'declarative':[],\n",
    "    'colloquial':['txt_msgs_clean.csv','spam_msgs_clean.csv','email_msgs_clean.csv']\n",
    "}"
   ]
  },
  {
   "cell_type": "code",
   "execution_count": 10,
   "id": "9e9aec93",
   "metadata": {
    "scrolled": true
   },
   "outputs": [],
   "source": [
    "# LOGIC\n",
    "keys = ['a','b','c','d','e']\n",
    "df = pd.DataFrame()\n",
    "\n",
    "for x in keys:\n",
    "    df_ = pd.DataFrame({'text':['0','1','2','3','4','5']})\n",
    "    data = { 'type':x, 'text':df_['text'] }\n",
    "    df = pd.concat([df, pd.DataFrame(data)])\n",
    "#display(df)"
   ]
  },
  {
   "cell_type": "code",
   "execution_count": 7,
   "id": "4eedac7d",
   "metadata": {},
   "outputs": [],
   "source": [
    "# CONCATENATOR\n",
    "base_url = '../data/clean'\n",
    "keys = list(files.keys())\n",
    "vals = list(files.values())\n",
    "df = pd.DataFrame()\n",
    "\n",
    "for x in range(len(vals)):\n",
    "    set_len = len(vals[x])\n",
    "    cat = keys[x]\n",
    "    for y in range(set_len):\n",
    "        df_ = pd.read_csv(f'{base_url}/{cat}/{vals[x][y]}')\n",
    "        data = { 'type':keys[x], 'text':df_['text'] }\n",
    "        df = pd.concat([df, pd.DataFrame(data)]).reset_index(drop=True)"
   ]
  },
  {
   "cell_type": "code",
   "execution_count": 8,
   "id": "07de036d",
   "metadata": {},
   "outputs": [],
   "source": [
    "df.to_csv('../data/testBlend.csv', index=False)"
   ]
  },
  {
   "cell_type": "code",
   "execution_count": 11,
   "id": "6d4bd871",
   "metadata": {},
   "outputs": [],
   "source": [
    "df = pd.read_csv('../data/testBlend.csv')\n",
    "df_rw = pd.read_csv('../data/rewritten.csv')\n",
    "types = df['type']"
   ]
  },
  {
   "cell_type": "code",
   "execution_count": 14,
   "id": "abf7e652",
   "metadata": {},
   "outputs": [
    {
     "data": {
      "text/html": [
       "<div>\n",
       "<style scoped>\n",
       "    .dataframe tbody tr th:only-of-type {\n",
       "        vertical-align: middle;\n",
       "    }\n",
       "\n",
       "    .dataframe tbody tr th {\n",
       "        vertical-align: top;\n",
       "    }\n",
       "\n",
       "    .dataframe thead th {\n",
       "        text-align: right;\n",
       "    }\n",
       "</style>\n",
       "<table border=\"1\" class=\"dataframe\">\n",
       "  <thead>\n",
       "    <tr style=\"text-align: right;\">\n",
       "      <th></th>\n",
       "      <th>type</th>\n",
       "      <th>original_text</th>\n",
       "      <th>rewrite_prompt</th>\n",
       "      <th>rewritten_text</th>\n",
       "    </tr>\n",
       "  </thead>\n",
       "  <tbody>\n",
       "    <tr>\n",
       "      <th>0</th>\n",
       "      <td>prose</td>\n",
       "      <td>For he broke down their prison gates of bronz...</td>\n",
       "      <td>Report this breakthrough as if it were a front...</td>\n",
       "      <td>\\n\\nThe breakthrough, which took place in the ...</td>\n",
       "    </tr>\n",
       "    <tr>\n",
       "      <th>1</th>\n",
       "      <td>prose</td>\n",
       "      <td>Let the godly strike me!\\n    It will be a ki...</td>\n",
       "      <td>Outline this proposal as if it were a United N...</td>\n",
       "      <td>\\n\\nThis is a proposal for a UN resolution.\\n\\...</td>\n",
       "    </tr>\n",
       "    <tr>\n",
       "      <th>2</th>\n",
       "      <td>prose</td>\n",
       "      <td>Praise the Lord!\\nHow good to sing praises to...</td>\n",
       "      <td>Rewrite this text as if it were part of a horr...</td>\n",
       "      <td>\\nPraise the Lord!\\n\\nThe text has been rewrit...</td>\n",
       "    </tr>\n",
       "    <tr>\n",
       "      <th>3</th>\n",
       "      <td>prose</td>\n",
       "      <td>Your name, O Lord, endures forever;\\n    your...</td>\n",
       "      <td>Reform this text into a survival guide for a f...</td>\n",
       "      <td>\\n    Your love, O Lord, is everlasting.\\n\\nWh...</td>\n",
       "    </tr>\n",
       "    <tr>\n",
       "      <th>4</th>\n",
       "      <td>prose</td>\n",
       "      <td>I thank you for answering my prayer\\n    and ...</td>\n",
       "      <td>Create a marketing pitch for this product as i...</td>\n",
       "      <td>\\n\\n**Introducing the \"Miracle Worker\" - the u...</td>\n",
       "    </tr>\n",
       "    <tr>\n",
       "      <th>...</th>\n",
       "      <td>...</td>\n",
       "      <td>...</td>\n",
       "      <td>...</td>\n",
       "      <td>...</td>\n",
       "    </tr>\n",
       "    <tr>\n",
       "      <th>2995</th>\n",
       "      <td>colloquial</td>\n",
       "      <td>louise :\\nat mary cook ' s request , we have p...</td>\n",
       "      <td>Rewrite this text as if it were an article for...</td>\n",
       "      <td>\\n\\n**Contact Information for Top 20 Trading C...</td>\n",
       "    </tr>\n",
       "    <tr>\n",
       "      <th>2996</th>\n",
       "      <td>colloquial</td>\n",
       "      <td>- - - - - - - - - - - - - - - - - - - - - - fo...</td>\n",
       "      <td>Adapt this text to appeal to fans of NASA.</td>\n",
       "      <td>sealy\\n\\n**Adaption:**\\n\\nDear NASA Team,\\n\\n...</td>\n",
       "    </tr>\n",
       "    <tr>\n",
       "      <th>2997</th>\n",
       "      <td>colloquial</td>\n",
       "      <td>is there a perl built in function that search...</td>\n",
       "      <td>Write this review as if it were in the Micheli...</td>\n",
       "      <td>\\n\\n**Michelin Guide Review:**\\n\\nWhile the Pe...</td>\n",
       "    </tr>\n",
       "    <tr>\n",
       "      <th>2998</th>\n",
       "      <td>colloquial</td>\n",
       "      <td>please let me know if you would be available f...</td>\n",
       "      <td>Rewrite this text as if it were spoken word po...</td>\n",
       "      <td>Rewrite this text as if it were spoken word po...</td>\n",
       "    </tr>\n",
       "    <tr>\n",
       "      <th>2999</th>\n",
       "      <td>colloquial</td>\n",
       "      <td>rob dixon wrote matt wrote thanks martin chang...</td>\n",
       "      <td>Craft this text into a pitch for a new TV show.</td>\n",
       "      <td>job well done\\n\\nThis pitch is about a TV sho...</td>\n",
       "    </tr>\n",
       "  </tbody>\n",
       "</table>\n",
       "<p>3000 rows × 4 columns</p>\n",
       "</div>"
      ],
      "text/plain": [
       "            type                                      original_text  \\\n",
       "0          prose   For he broke down their prison gates of bronz...   \n",
       "1          prose   Let the godly strike me!\\n    It will be a ki...   \n",
       "2          prose   Praise the Lord!\\nHow good to sing praises to...   \n",
       "3          prose   Your name, O Lord, endures forever;\\n    your...   \n",
       "4          prose   I thank you for answering my prayer\\n    and ...   \n",
       "...          ...                                                ...   \n",
       "2995  colloquial  louise :\\nat mary cook ' s request , we have p...   \n",
       "2996  colloquial  - - - - - - - - - - - - - - - - - - - - - - fo...   \n",
       "2997  colloquial   is there a perl built in function that search...   \n",
       "2998  colloquial  please let me know if you would be available f...   \n",
       "2999  colloquial  rob dixon wrote matt wrote thanks martin chang...   \n",
       "\n",
       "                                         rewrite_prompt  \\\n",
       "0     Report this breakthrough as if it were a front...   \n",
       "1     Outline this proposal as if it were a United N...   \n",
       "2     Rewrite this text as if it were part of a horr...   \n",
       "3     Reform this text into a survival guide for a f...   \n",
       "4     Create a marketing pitch for this product as i...   \n",
       "...                                                 ...   \n",
       "2995  Rewrite this text as if it were an article for...   \n",
       "2996         Adapt this text to appeal to fans of NASA.   \n",
       "2997  Write this review as if it were in the Micheli...   \n",
       "2998  Rewrite this text as if it were spoken word po...   \n",
       "2999    Craft this text into a pitch for a new TV show.   \n",
       "\n",
       "                                         rewritten_text  \n",
       "0     \\n\\nThe breakthrough, which took place in the ...  \n",
       "1     \\n\\nThis is a proposal for a UN resolution.\\n\\...  \n",
       "2     \\nPraise the Lord!\\n\\nThe text has been rewrit...  \n",
       "3     \\n    Your love, O Lord, is everlasting.\\n\\nWh...  \n",
       "4     \\n\\n**Introducing the \"Miracle Worker\" - the u...  \n",
       "...                                                 ...  \n",
       "2995  \\n\\n**Contact Information for Top 20 Trading C...  \n",
       "2996   sealy\\n\\n**Adaption:**\\n\\nDear NASA Team,\\n\\n...  \n",
       "2997  \\n\\n**Michelin Guide Review:**\\n\\nWhile the Pe...  \n",
       "2998  Rewrite this text as if it were spoken word po...  \n",
       "2999   job well done\\n\\nThis pitch is about a TV sho...  \n",
       "\n",
       "[3000 rows x 4 columns]"
      ]
     },
     "metadata": {},
     "output_type": "display_data"
    }
   ],
   "source": [
    "cc = df_rw.join(types, how='left')\n",
    "cc = cc[['type', 'original_text','rewrite_prompt','rewritten_text']]\n",
    "display(cc)"
   ]
  },
  {
   "cell_type": "code",
   "execution_count": 15,
   "id": "bbf2a545",
   "metadata": {},
   "outputs": [],
   "source": [
    "cc.to_csv('../data/rewrittenLabelled.csv')"
   ]
  },
  {
   "cell_type": "code",
   "execution_count": 5,
   "id": "3c826ba4",
   "metadata": {},
   "outputs": [
    {
     "name": "stdout",
     "output_type": "stream",
     "text": [
      "Original:\n",
      " For he broke down their prison gates of bronze;\n",
      "    he cut apart their bars of iron.\n",
      "Prompt:\n",
      "Report this breakthrough as if it were a front-page story in The Guardian.\n",
      "Rewritten Text:\n",
      "\n",
      "\n",
      "The breakthrough, which took place in the early hours of the morning, saw the escape of two prisoners from the maximum-security prison in London. The prisoners, who have been named as John Smith and Jane Doe, were both serving sentences of life imprisonment.\n",
      "\n",
      "The prison, which is located in the heart of the city, is one of the most heavily guarded in the UK. It is equipped with state-of-the-art security systems, including high-tech cameras, biometric scanners, and alarm systems.\n",
      "\n",
      "The escape is believed to have been carried out by a group of inmates who were dissatisfied with the prison's conditions. It is unclear how the prisoners managed to break down the prison gates and bars of iron, but it is believed that they used a combination of tools and techniques.\n",
      "\n",
      "The escape has caused a major stir in the UK, with many people expressing their outrage at the lack of security at the prison. The government has promised a full investigation into the escape, and the Prime Minister has condemned the prisoners' actions.\n",
      "\n",
      "The escape is a reminder of the dangers of overcrowding and poor security at prisons. It is also a reminder of the need for the government to invest in improving the security of our prisons.\n"
     ]
    }
   ],
   "source": [
    "pt=0\n",
    "print(f\"Original:\\n{df['original_text'][pt]}\")\n",
    "print(f\"Prompt:\\n{df['rewrite_prompt'][pt]}\")\n",
    "print(f\"Rewritten Text:\\n{df['rewritten_text'][pt]}\")"
   ]
  },
  {
   "cell_type": "markdown",
   "id": "4189fefe",
   "metadata": {},
   "source": [
    "# Basic Blend"
   ]
  },
  {
   "cell_type": "code",
   "execution_count": 4,
   "id": "0292d4ce",
   "metadata": {},
   "outputs": [],
   "source": [
    "df = pd.read_csv('../data/rewritten.csv')"
   ]
  },
  {
   "cell_type": "code",
   "execution_count": 5,
   "id": "7e1642e0",
   "metadata": {},
   "outputs": [
    {
     "data": {
      "text/plain": [
       "17"
      ]
     },
     "execution_count": 5,
     "metadata": {},
     "output_type": "execute_result"
    }
   ],
   "source": [
    "prompts = df['rewrite_prompt']\n",
    "\n",
    "haikus_with_index = [(index, prompt) for index, prompt in enumerate(df['rewrite_prompt']) if \"haiku\" in prompt]\n",
    "len(haikus_with_index)"
   ]
  },
  {
   "cell_type": "code",
   "execution_count": 10,
   "id": "89011ac8",
   "metadata": {},
   "outputs": [
    {
     "name": "stdout",
     "output_type": "stream",
     "text": [
      " May the Lord always remember these sins,\n",
      "    and may his name disappear from human memory.\n",
      "\n",
      "    Let the wounds of the past be healed.\n",
      "\n",
      "**Haiku:**\n",
      "\n",
      "Tears of regret,\n",
      "Whispered prayers, forgotten now,\n",
      "Past wounds find solace.\n"
     ]
    }
   ],
   "source": [
    "print(df['original_text'][40])\n",
    "print(df['rewritten_text'][40])"
   ]
  },
  {
   "cell_type": "code",
   "execution_count": 11,
   "id": "6324ca82",
   "metadata": {},
   "outputs": [
    {
     "name": "stdout",
     "output_type": "stream",
     "text": [
      "He puts mayonnaise on top of the top piece of bread. He stacks the food up on the bread again.END\n",
      "\n",
      "\n",
      "Haiku:\n",
      "\n",
      "Mayonnaise atop,\n",
      "Stacked high, a culinary dance,\n",
      "Bread becomes a feast.\n"
     ]
    }
   ],
   "source": [
    "print(df['original_text'][1213]+\"END\")\n",
    "print(df['rewritten_text'][1213])"
   ]
  },
  {
   "cell_type": "code",
   "execution_count": 6,
   "id": "80a3a827",
   "metadata": {},
   "outputs": [
    {
     "data": {
      "text/html": [
       "<div>\n",
       "<style scoped>\n",
       "    .dataframe tbody tr th:only-of-type {\n",
       "        vertical-align: middle;\n",
       "    }\n",
       "\n",
       "    .dataframe tbody tr th {\n",
       "        vertical-align: top;\n",
       "    }\n",
       "\n",
       "    .dataframe thead th {\n",
       "        text-align: right;\n",
       "    }\n",
       "</style>\n",
       "<table border=\"1\" class=\"dataframe\">\n",
       "  <thead>\n",
       "    <tr style=\"text-align: right;\">\n",
       "      <th></th>\n",
       "      <th>original_text</th>\n",
       "      <th>rewrite_prompt</th>\n",
       "      <th>rewritten_text</th>\n",
       "    </tr>\n",
       "  </thead>\n",
       "  <tbody>\n",
       "    <tr>\n",
       "      <th>0</th>\n",
       "      <td>For he broke down their prison gates of bronz...</td>\n",
       "      <td>Report this breakthrough as if it were a front...</td>\n",
       "      <td>\\n\\nThe breakthrough, which took place in the ...</td>\n",
       "    </tr>\n",
       "    <tr>\n",
       "      <th>1</th>\n",
       "      <td>Let the godly strike me!\\n    It will be a ki...</td>\n",
       "      <td>Outline this proposal as if it were a United N...</td>\n",
       "      <td>\\n\\nThis is a proposal for a UN resolution.\\n\\...</td>\n",
       "    </tr>\n",
       "    <tr>\n",
       "      <th>2</th>\n",
       "      <td>Praise the Lord!\\nHow good to sing praises to...</td>\n",
       "      <td>Rewrite this text as if it were part of a horr...</td>\n",
       "      <td>\\nPraise the Lord!\\n\\nThe text has been rewrit...</td>\n",
       "    </tr>\n",
       "    <tr>\n",
       "      <th>3</th>\n",
       "      <td>Your name, O Lord, endures forever;\\n    your...</td>\n",
       "      <td>Reform this text into a survival guide for a f...</td>\n",
       "      <td>\\n    Your love, O Lord, is everlasting.\\n\\nWh...</td>\n",
       "    </tr>\n",
       "    <tr>\n",
       "      <th>4</th>\n",
       "      <td>I thank you for answering my prayer\\n    and ...</td>\n",
       "      <td>Create a marketing pitch for this product as i...</td>\n",
       "      <td>\\n\\n**Introducing the \"Miracle Worker\" - the u...</td>\n",
       "    </tr>\n",
       "    <tr>\n",
       "      <th>...</th>\n",
       "      <td>...</td>\n",
       "      <td>...</td>\n",
       "      <td>...</td>\n",
       "    </tr>\n",
       "    <tr>\n",
       "      <th>2995</th>\n",
       "      <td>louise :\\nat mary cook ' s request , we have p...</td>\n",
       "      <td>Rewrite this text as if it were an article for...</td>\n",
       "      <td>\\n\\n**Contact Information for Top 20 Trading C...</td>\n",
       "    </tr>\n",
       "    <tr>\n",
       "      <th>2996</th>\n",
       "      <td>- - - - - - - - - - - - - - - - - - - - - - fo...</td>\n",
       "      <td>Adapt this text to appeal to fans of NASA.</td>\n",
       "      <td>sealy\\n\\n**Adaption:**\\n\\nDear NASA Team,\\n\\n...</td>\n",
       "    </tr>\n",
       "    <tr>\n",
       "      <th>2997</th>\n",
       "      <td>is there a perl built in function that search...</td>\n",
       "      <td>Write this review as if it were in the Micheli...</td>\n",
       "      <td>\\n\\n**Michelin Guide Review:**\\n\\nWhile the Pe...</td>\n",
       "    </tr>\n",
       "    <tr>\n",
       "      <th>2998</th>\n",
       "      <td>please let me know if you would be available f...</td>\n",
       "      <td>Rewrite this text as if it were spoken word po...</td>\n",
       "      <td>Rewrite this text as if it were spoken word po...</td>\n",
       "    </tr>\n",
       "    <tr>\n",
       "      <th>2999</th>\n",
       "      <td>rob dixon wrote matt wrote thanks martin chang...</td>\n",
       "      <td>Craft this text into a pitch for a new TV show.</td>\n",
       "      <td>job well done\\n\\nThis pitch is about a TV sho...</td>\n",
       "    </tr>\n",
       "  </tbody>\n",
       "</table>\n",
       "<p>3000 rows × 3 columns</p>\n",
       "</div>"
      ],
      "text/plain": [
       "                                          original_text  \\\n",
       "0      For he broke down their prison gates of bronz...   \n",
       "1      Let the godly strike me!\\n    It will be a ki...   \n",
       "2      Praise the Lord!\\nHow good to sing praises to...   \n",
       "3      Your name, O Lord, endures forever;\\n    your...   \n",
       "4      I thank you for answering my prayer\\n    and ...   \n",
       "...                                                 ...   \n",
       "2995  louise :\\nat mary cook ' s request , we have p...   \n",
       "2996  - - - - - - - - - - - - - - - - - - - - - - fo...   \n",
       "2997   is there a perl built in function that search...   \n",
       "2998  please let me know if you would be available f...   \n",
       "2999  rob dixon wrote matt wrote thanks martin chang...   \n",
       "\n",
       "                                         rewrite_prompt  \\\n",
       "0     Report this breakthrough as if it were a front...   \n",
       "1     Outline this proposal as if it were a United N...   \n",
       "2     Rewrite this text as if it were part of a horr...   \n",
       "3     Reform this text into a survival guide for a f...   \n",
       "4     Create a marketing pitch for this product as i...   \n",
       "...                                                 ...   \n",
       "2995  Rewrite this text as if it were an article for...   \n",
       "2996         Adapt this text to appeal to fans of NASA.   \n",
       "2997  Write this review as if it were in the Micheli...   \n",
       "2998  Rewrite this text as if it were spoken word po...   \n",
       "2999    Craft this text into a pitch for a new TV show.   \n",
       "\n",
       "                                         rewritten_text  \n",
       "0     \\n\\nThe breakthrough, which took place in the ...  \n",
       "1     \\n\\nThis is a proposal for a UN resolution.\\n\\...  \n",
       "2     \\nPraise the Lord!\\n\\nThe text has been rewrit...  \n",
       "3     \\n    Your love, O Lord, is everlasting.\\n\\nWh...  \n",
       "4     \\n\\n**Introducing the \"Miracle Worker\" - the u...  \n",
       "...                                                 ...  \n",
       "2995  \\n\\n**Contact Information for Top 20 Trading C...  \n",
       "2996   sealy\\n\\n**Adaption:**\\n\\nDear NASA Team,\\n\\n...  \n",
       "2997  \\n\\n**Michelin Guide Review:**\\n\\nWhile the Pe...  \n",
       "2998  Rewrite this text as if it were spoken word po...  \n",
       "2999   job well done\\n\\nThis pitch is about a TV sho...  \n",
       "\n",
       "[3000 rows x 3 columns]"
      ]
     },
     "metadata": {},
     "output_type": "display_data"
    }
   ],
   "source": [
    "display(df)"
   ]
  },
  {
   "cell_type": "code",
   "execution_count": null,
   "id": "4bd3a2e2",
   "metadata": {},
   "outputs": [],
   "source": []
  }
 ],
 "metadata": {
  "kernelspec": {
   "display_name": "bootcampDev",
   "language": "python",
   "name": "bootcampdev"
  },
  "language_info": {
   "codemirror_mode": {
    "name": "ipython",
    "version": 3
   },
   "file_extension": ".py",
   "mimetype": "text/x-python",
   "name": "python",
   "nbconvert_exporter": "python",
   "pygments_lexer": "ipython3",
   "version": "3.11.7"
  }
 },
 "nbformat": 4,
 "nbformat_minor": 5
}
