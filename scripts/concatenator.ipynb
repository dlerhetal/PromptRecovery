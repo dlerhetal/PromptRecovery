{
 "cells": [
  {
   "cell_type": "code",
   "execution_count": 28,
   "id": "a62e1f83",
   "metadata": {},
   "outputs": [],
   "source": [
    "import pandas as pd"
   ]
  },
  {
   "cell_type": "code",
   "execution_count": null,
   "id": "a78258cf",
   "metadata": {},
   "outputs": [],
   "source": [
    "unclean = {\n",
    "    'prose':[],\n",
    "    'nonfiction':['WikiTV2023.csv','WikiEspGDC.csv','WikiEspAI.csv'],\n",
    "    'misc':[],\n",
    "    'interrogative':[],\n",
    "    'fiction':['wikiAH_clean.csv'],\n",
    "    'declarative':[],\n",
    "    'colloquial':[]\n",
    "}\n",
    "\n",
    "alrdy_clean = {\n",
    "    'prose':[],\n",
    "    'nonfiction':[],\n",
    "    'misc':[],\n",
    "    'interrogative':[],\n",
    "    'fiction':['essays_clean.csv',],\n",
    "    'declarative':['bible_clean.csv'],\n",
    "    'colloquial':[]\n",
    "}"
   ]
  },
  {
   "cell_type": "code",
   "execution_count": 65,
   "id": "cbf503cf",
   "metadata": {},
   "outputs": [],
   "source": [
    "files = {\n",
    "    'prose':['psalms_clean.csv'],\n",
    "    'nonfiction':['case_law.csv','med_trans_clean.csv'],\n",
    "    'misc':['code.csv','hellaSwag_clean.csv'],\n",
    "    'interrogative':['sat_qstns_clean.csv'],\n",
    "    'fiction':['movie_summs_clean.csv'],\n",
    "    'declarative':[],\n",
    "    'colloquial':['txt_msgs_clean.csv','spam_msgs_clean.csv','email_msgs_clean.csv']\n",
    "}"
   ]
  },
  {
   "cell_type": "code",
   "execution_count": 38,
   "id": "9e9aec93",
   "metadata": {
    "scrolled": true
   },
   "outputs": [],
   "source": [
    "keys = ['a','b','c','d','e']\n",
    "df = pd.DataFrame()\n",
    "\n",
    "for x in keys:\n",
    "    df_ = pd.DataFrame({'text':['0','1','2','3','4','5']})\n",
    "    data = { 'type':x, 'text':df_['text'] }\n",
    "    df = pd.concat([df, pd.DataFrame(data)])\n",
    "#display(df)"
   ]
  },
  {
   "cell_type": "code",
   "execution_count": 66,
   "id": "4eedac7d",
   "metadata": {},
   "outputs": [],
   "source": [
    "base_url = '../data/clean'\n",
    "keys = list(files.keys())\n",
    "vals = list(files.values())\n",
    "df = pd.DataFrame()\n",
    "\n",
    "for x in range(len(vals)):\n",
    "    set_len = len(vals[x])\n",
    "    cat = keys[x]\n",
    "    for y in range(set_len):\n",
    "        df_ = pd.read_csv(f'{base_url}/{cat}/{vals[x][y]}')\n",
    "        data = { 'type':keys[x], 'text':df_['text'] }\n",
    "        df = pd.concat([df, pd.DataFrame(data)]).reset_index(drop=True)"
   ]
  },
  {
   "cell_type": "code",
   "execution_count": 67,
   "id": "07de036d",
   "metadata": {},
   "outputs": [],
   "source": [
    "df.to_csv('../data/testBlend.csv', index=False)"
   ]
  }
 ],
 "metadata": {
  "kernelspec": {
   "display_name": "bootcampDev",
   "language": "python",
   "name": "bootcampdev"
  },
  "language_info": {
   "codemirror_mode": {
    "name": "ipython",
    "version": 3
   },
   "file_extension": ".py",
   "mimetype": "text/x-python",
   "name": "python",
   "nbconvert_exporter": "python",
   "pygments_lexer": "ipython3",
   "version": "3.11.7"
  }
 },
 "nbformat": 4,
 "nbformat_minor": 5
}
