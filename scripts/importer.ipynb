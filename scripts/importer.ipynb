{
 "cells": [
  {
   "cell_type": "code",
   "execution_count": 1,
   "id": "6d049696",
   "metadata": {},
   "outputs": [],
   "source": [
    "import json\n",
    "import pandas as pd\n",
    "from datasets import load_dataset"
   ]
  },
  {
   "cell_type": "code",
   "execution_count": 2,
   "id": "eeedc5fd",
   "metadata": {},
   "outputs": [],
   "source": [
    "# Methods\n",
    "def make_df(eq, col_name):\n",
    "    df_ = df[df[col_name] == eq].reset_index(drop=True)\n",
    "    return df_\n",
    "\n"
   ]
  },
  {
   "cell_type": "markdown",
   "id": "051e1e2e",
   "metadata": {},
   "source": [
    "# Codes"
   ]
  },
  {
   "cell_type": "code",
   "execution_count": 6,
   "id": "85b2fe6d",
   "metadata": {},
   "outputs": [],
   "source": [
    "# Pull n examples from a huggingface streaming dataset\n",
    "def sample_dataset(dataset_name, n=5000):\n",
    "    dataset = load_dataset(dataset_name, split='train', streaming=True)\n",
    "\n",
    "    samples = []\n",
    "    langs = []\n",
    "    # Boxes up the required fields from the streaming dataset\n",
    "    for example in dataset:\n",
    "        samples.append(example['code'])\n",
    "        langs.append(example['language'])\n",
    "        if len(samples) >= n:\n",
    "            break\n",
    "\n",
    "    return samples, langs\n",
    "\n",
    "samples, langs = sample_dataset('codeparrot/github-code')"
   ]
  },
  {
   "cell_type": "code",
   "execution_count": 7,
   "id": "81e57545",
   "metadata": {},
   "outputs": [],
   "source": [
    "df = pd.DataFrame({'samples':samples,'langs':langs})\n",
    "\n",
    "# Take 25 from the top 12 languages\n",
    "variety = 12\n",
    "sample_size = 25\n",
    "langs = df['langs'].value_counts(ascending=False).index[:variety]\n",
    "\n",
    "dfs = [make_df(x, 'langs') for x in langs]\n",
    "samples = pd.concat([ dfs[x].sample(sample_size) for x in range(variety) ]).reset_index(drop=True)\n",
    "samples.to_csv('../data/clean/misc/code.csv', index=False)"
   ]
  },
  {
   "cell_type": "markdown",
   "id": "fac28a65",
   "metadata": {},
   "source": [
    "# Med Transcripts"
   ]
  },
  {
   "cell_type": "code",
   "execution_count": 8,
   "id": "1dd81d25",
   "metadata": {},
   "outputs": [],
   "source": [
    "df = pd.read_csv('../data/raw/nonfiction/med_trans.csv', index_col='Unnamed: 0')\n",
    "df = df.dropna()\n",
    "df = df.drop_duplicates()\n",
    "df['medical_specialty'] = [x.replace(\" \", \"\") for x in df['medical_specialty']]\n",
    "df = df[['transcription','medical_specialty']]\n",
    "df.to_csv('../data/clean/nonfiction/med_trans_clean.csv', index=False)"
   ]
  },
  {
   "cell_type": "markdown",
   "id": "bf1ff84f",
   "metadata": {},
   "source": [
    "# Movie Summaries"
   ]
  },
  {
   "cell_type": "code",
   "execution_count": 9,
   "id": "e6785a2a",
   "metadata": {},
   "outputs": [],
   "source": [
    "# DOWNLOAD NEEDED: Uncomment after you download the data\n",
    "\n",
    "df = pd.read_csv('../data/raw/fiction/movie_sums.csv')\n",
    "\n",
    "# Take 25 from the top 12 genres\n",
    "variety = 12\n",
    "sample_size = 25\n",
    "genres = df['Genre'].value_counts().index[1:variety+1]\n",
    "\n",
    "dfs = [make_df(x, 'Genre') for x in genres]\n",
    "samples = pd.concat([ dfs[x].sample(sample_size) for x in range(variety) ]).reset_index(drop=True)\n",
    "samples = samples[['Plot','Genre']]\n",
    "samples.to_csv('../data/clean/fiction/movie_summs_clean.csv', index=False)"
   ]
  },
  {
   "cell_type": "code",
   "execution_count": 10,
   "id": "672644ad",
   "metadata": {},
   "outputs": [
    {
     "data": {
      "text/plain": [
       "436"
      ]
     },
     "execution_count": 10,
     "metadata": {},
     "output_type": "execute_result"
    }
   ],
   "source": [
    "len(df['Plot'][2])"
   ]
  },
  {
   "cell_type": "markdown",
   "id": "10c059e5",
   "metadata": {},
   "source": [
    "# SAT Questions"
   ]
  },
  {
   "cell_type": "code",
   "execution_count": 11,
   "id": "859657df",
   "metadata": {},
   "outputs": [],
   "source": [
    "df = pd.read_csv('../data/raw/interrogative/sat_qstns.csv')"
   ]
  },
  {
   "cell_type": "code",
   "execution_count": 12,
   "id": "db6e6d6a",
   "metadata": {},
   "outputs": [
    {
     "data": {
      "text/plain": [
       "subject\n",
       "us_history       1108\n",
       "world_history     272\n",
       "Name: count, dtype: int64"
      ]
     },
     "execution_count": 12,
     "metadata": {},
     "output_type": "execute_result"
    }
   ],
   "source": [
    "df['subject'].value_counts()"
   ]
  },
  {
   "cell_type": "markdown",
   "id": "54e117c5",
   "metadata": {},
   "source": [
    "# Case Law"
   ]
  },
  {
   "cell_type": "code",
   "execution_count": 215,
   "id": "0f3b108c",
   "metadata": {},
   "outputs": [
    {
     "name": "stderr",
     "output_type": "stream",
     "text": [
      "C:\\Users\\karso\\AppData\\Local\\Temp\\ipykernel_19644\\3799700152.py:2: FutureWarning: list_datasets is deprecated and will be removed in the next major version of datasets. Use 'huggingface_hub.list_datasets' instead.\n",
      "  datasets_list = list_datasets()\n"
     ]
    }
   ],
   "source": [
    "from datasets import list_datasets\n",
    "datasets_list = list_datasets()\n",
    "\n",
    "#dataset = load_dataset(\"TeraflopAI/Caselaw_Access_Project\")\n"
   ]
  },
  {
   "cell_type": "code",
   "execution_count": 216,
   "id": "23673ce3",
   "metadata": {},
   "outputs": [
    {
     "name": "stdout",
     "output_type": "stream",
     "text": [
      "123098\n"
     ]
    }
   ],
   "source": [
    "print(len(datasets_list))"
   ]
  },
  {
   "cell_type": "code",
   "execution_count": 219,
   "id": "c16ac7ef",
   "metadata": {},
   "outputs": [
    {
     "name": "stderr",
     "output_type": "stream",
     "text": [
      "IOPub data rate exceeded.\n",
      "The notebook server will temporarily stop sending output\n",
      "to the client in order to avoid crashing it.\n",
      "To change this limit, set the config variable\n",
      "`--NotebookApp.iopub_data_rate_limit`.\n",
      "\n",
      "Current values:\n",
      "NotebookApp.iopub_data_rate_limit=1000000.0 (bytes/sec)\n",
      "NotebookApp.rate_limit_window=3.0 (secs)\n",
      "\n"
     ]
    }
   ],
   "source": [
    "print(', '.join(dataset for dataset in datasets_list))\n"
   ]
  },
  {
   "cell_type": "code",
   "execution_count": 220,
   "id": "a91fae8e",
   "metadata": {},
   "outputs": [
    {
     "name": "stdout",
     "output_type": "stream",
     "text": [
      "acronym_identification\n"
     ]
    }
   ],
   "source": [
    "print(next(iter(datasets_list)))"
   ]
  },
  {
   "cell_type": "code",
   "execution_count": null,
   "id": "b012ab0c",
   "metadata": {},
   "outputs": [],
   "source": [
    "def sample_dataset(dataset_name, n=5000):\n",
    "    dataset = load_dataset(dataset_name, split='train', streaming=True)\n",
    "\n",
    "    samples = []\n",
    "    langs = []\n",
    "    # Boxes up the required fields from the streaming dataset\n",
    "    for example in dataset:\n",
    "        samples.append(example['code'])\n",
    "        langs.append(example['language'])\n",
    "        if len(samples) >= n:\n",
    "            break\n",
    "\n",
    "    return samples, langs\n",
    "\n",
    "samples, langs = sample_dataset('codeparrot/github-code')"
   ]
  },
  {
   "cell_type": "markdown",
   "id": "d62f26bd",
   "metadata": {},
   "source": [
    "# Spam Text"
   ]
  },
  {
   "cell_type": "code",
   "execution_count": 90,
   "id": "bc785799",
   "metadata": {},
   "outputs": [
    {
     "data": {
      "text/html": [
       "<div>\n",
       "<style scoped>\n",
       "    .dataframe tbody tr th:only-of-type {\n",
       "        vertical-align: middle;\n",
       "    }\n",
       "\n",
       "    .dataframe tbody tr th {\n",
       "        vertical-align: top;\n",
       "    }\n",
       "\n",
       "    .dataframe thead th {\n",
       "        text-align: right;\n",
       "    }\n",
       "</style>\n",
       "<table border=\"1\" class=\"dataframe\">\n",
       "  <thead>\n",
       "    <tr style=\"text-align: right;\">\n",
       "      <th></th>\n",
       "      <th>label</th>\n",
       "      <th>text</th>\n",
       "    </tr>\n",
       "  </thead>\n",
       "  <tbody>\n",
       "    <tr>\n",
       "      <th>0</th>\n",
       "      <td>1</td>\n",
       "      <td>ounce feather bowl hummingbird opec moment ala...</td>\n",
       "    </tr>\n",
       "    <tr>\n",
       "      <th>1</th>\n",
       "      <td>1</td>\n",
       "      <td>wulvob get your medircations online qnb ikud v...</td>\n",
       "    </tr>\n",
       "    <tr>\n",
       "      <th>2</th>\n",
       "      <td>0</td>\n",
       "      <td>computer connection from cnn com wednesday es...</td>\n",
       "    </tr>\n",
       "    <tr>\n",
       "      <th>3</th>\n",
       "      <td>1</td>\n",
       "      <td>university degree obtain a prosperous future m...</td>\n",
       "    </tr>\n",
       "    <tr>\n",
       "      <th>4</th>\n",
       "      <td>0</td>\n",
       "      <td>thanks for all your answers guys i know i shou...</td>\n",
       "    </tr>\n",
       "    <tr>\n",
       "      <th>...</th>\n",
       "      <td>...</td>\n",
       "      <td>...</td>\n",
       "    </tr>\n",
       "    <tr>\n",
       "      <th>83443</th>\n",
       "      <td>0</td>\n",
       "      <td>hi given a date how do i get the last date of ...</td>\n",
       "    </tr>\n",
       "    <tr>\n",
       "      <th>83444</th>\n",
       "      <td>1</td>\n",
       "      <td>now you can order software on cd or download i...</td>\n",
       "    </tr>\n",
       "    <tr>\n",
       "      <th>83445</th>\n",
       "      <td>1</td>\n",
       "      <td>dear valued member canadianpharmacy provides a...</td>\n",
       "    </tr>\n",
       "    <tr>\n",
       "      <th>83446</th>\n",
       "      <td>0</td>\n",
       "      <td>subscribe change profile contact us long term ...</td>\n",
       "    </tr>\n",
       "    <tr>\n",
       "      <th>83447</th>\n",
       "      <td>1</td>\n",
       "      <td>get the most out of life ! viagra has helped m...</td>\n",
       "    </tr>\n",
       "  </tbody>\n",
       "</table>\n",
       "<p>83448 rows × 2 columns</p>\n",
       "</div>"
      ],
      "text/plain": [
       "       label                                               text\n",
       "0          1  ounce feather bowl hummingbird opec moment ala...\n",
       "1          1  wulvob get your medircations online qnb ikud v...\n",
       "2          0   computer connection from cnn com wednesday es...\n",
       "3          1  university degree obtain a prosperous future m...\n",
       "4          0  thanks for all your answers guys i know i shou...\n",
       "...      ...                                                ...\n",
       "83443      0  hi given a date how do i get the last date of ...\n",
       "83444      1  now you can order software on cd or download i...\n",
       "83445      1  dear valued member canadianpharmacy provides a...\n",
       "83446      0  subscribe change profile contact us long term ...\n",
       "83447      1  get the most out of life ! viagra has helped m...\n",
       "\n",
       "[83448 rows x 2 columns]"
      ]
     },
     "metadata": {},
     "output_type": "display_data"
    }
   ],
   "source": [
    "# DOWNLOAD NEEDED: Uncomment after you download the data\n",
    "\n",
    "df1 = pd.read_csv('../data/raw/colloquial/spam_email.csv')\n",
    "display(df1)"
   ]
  },
  {
   "cell_type": "code",
   "execution_count": 91,
   "id": "2efb5a03",
   "metadata": {},
   "outputs": [],
   "source": [
    "emails = df1[df1['label'] == 0]\n",
    "emls_sampled = emails.sample(300).reset_index(drop=True)\n",
    "eml_spam = df1[df1['label'] == 1]\n",
    "eml_spam_sampled = eml_spam.sample(150).reset_index(drop=True)"
   ]
  },
  {
   "cell_type": "code",
   "execution_count": 92,
   "id": "5309407f",
   "metadata": {},
   "outputs": [
    {
     "data": {
      "text/html": [
       "<div>\n",
       "<style scoped>\n",
       "    .dataframe tbody tr th:only-of-type {\n",
       "        vertical-align: middle;\n",
       "    }\n",
       "\n",
       "    .dataframe tbody tr th {\n",
       "        vertical-align: top;\n",
       "    }\n",
       "\n",
       "    .dataframe thead th {\n",
       "        text-align: right;\n",
       "    }\n",
       "</style>\n",
       "<table border=\"1\" class=\"dataframe\">\n",
       "  <thead>\n",
       "    <tr style=\"text-align: right;\">\n",
       "      <th></th>\n",
       "      <th>label</th>\n",
       "      <th>text</th>\n",
       "    </tr>\n",
       "  </thead>\n",
       "  <tbody>\n",
       "    <tr>\n",
       "      <th>0</th>\n",
       "      <td>ham</td>\n",
       "      <td>Go until jurong point, crazy.. Available only ...</td>\n",
       "    </tr>\n",
       "    <tr>\n",
       "      <th>1</th>\n",
       "      <td>ham</td>\n",
       "      <td>Ok lar... Joking wif u oni...</td>\n",
       "    </tr>\n",
       "    <tr>\n",
       "      <th>2</th>\n",
       "      <td>spam</td>\n",
       "      <td>Free entry in 2 a wkly comp to win FA Cup fina...</td>\n",
       "    </tr>\n",
       "    <tr>\n",
       "      <th>3</th>\n",
       "      <td>ham</td>\n",
       "      <td>U dun say so early hor... U c already then say...</td>\n",
       "    </tr>\n",
       "    <tr>\n",
       "      <th>4</th>\n",
       "      <td>ham</td>\n",
       "      <td>Nah I don't think he goes to usf, he lives aro...</td>\n",
       "    </tr>\n",
       "    <tr>\n",
       "      <th>...</th>\n",
       "      <td>...</td>\n",
       "      <td>...</td>\n",
       "    </tr>\n",
       "    <tr>\n",
       "      <th>5567</th>\n",
       "      <td>spam</td>\n",
       "      <td>This is the 2nd time we have tried 2 contact u...</td>\n",
       "    </tr>\n",
       "    <tr>\n",
       "      <th>5568</th>\n",
       "      <td>ham</td>\n",
       "      <td>Will Ì_ b going to esplanade fr home?</td>\n",
       "    </tr>\n",
       "    <tr>\n",
       "      <th>5569</th>\n",
       "      <td>ham</td>\n",
       "      <td>Pity, * was in mood for that. So...any other s...</td>\n",
       "    </tr>\n",
       "    <tr>\n",
       "      <th>5570</th>\n",
       "      <td>ham</td>\n",
       "      <td>The guy did some bitching but I acted like i'd...</td>\n",
       "    </tr>\n",
       "    <tr>\n",
       "      <th>5571</th>\n",
       "      <td>ham</td>\n",
       "      <td>Rofl. Its true to its name</td>\n",
       "    </tr>\n",
       "  </tbody>\n",
       "</table>\n",
       "<p>5572 rows × 2 columns</p>\n",
       "</div>"
      ],
      "text/plain": [
       "     label                                               text\n",
       "0      ham  Go until jurong point, crazy.. Available only ...\n",
       "1      ham                      Ok lar... Joking wif u oni...\n",
       "2     spam  Free entry in 2 a wkly comp to win FA Cup fina...\n",
       "3      ham  U dun say so early hor... U c already then say...\n",
       "4      ham  Nah I don't think he goes to usf, he lives aro...\n",
       "...    ...                                                ...\n",
       "5567  spam  This is the 2nd time we have tried 2 contact u...\n",
       "5568   ham              Will Ì_ b going to esplanade fr home?\n",
       "5569   ham  Pity, * was in mood for that. So...any other s...\n",
       "5570   ham  The guy did some bitching but I acted like i'd...\n",
       "5571   ham                         Rofl. Its true to its name\n",
       "\n",
       "[5572 rows x 2 columns]"
      ]
     },
     "metadata": {},
     "output_type": "display_data"
    }
   ],
   "source": [
    "df2 = pd.read_csv('../data/raw/colloquial/spam_text.csv', encoding='ISO-8859-1')\n",
    "df2 = df2[['v1','v2']].rename(columns={'v1':'label','v2':'text'})\n",
    "display(df2)"
   ]
  },
  {
   "cell_type": "code",
   "execution_count": 93,
   "id": "96ddc409",
   "metadata": {},
   "outputs": [],
   "source": [
    "texts = df2[df2['label'] == 'ham']\n",
    "txts_sampled = texts.sample(300).reset_index(drop=True)\n",
    "txt_spam = df2[df2['label'] == 'spam']\n",
    "txt_spam_sampled = txt_spam.sample(150).reset_index(drop=True)"
   ]
  },
  {
   "cell_type": "code",
   "execution_count": 94,
   "id": "1f822737",
   "metadata": {},
   "outputs": [],
   "source": [
    "cc_spam = pd.concat([eml_spam_sampled, txt_spam_sampled]).reset_index(drop=True)\n",
    "key = {1:'email','spam':'text'}\n",
    "cc_spam['label'] = cc_spam['label'].map(key)\n",
    "cc_spam = cc_spam.rename(columns ={'label':'textType'})\n",
    "cc_spam.to_csv('../data/clean/colloquial/spam_msgs_clean.csv', index=False)\n",
    "txts_sampled.to_csv('../data/clean/colloquial/txt_msgs_clean.csv', index=False)\n",
    "emls_sampled.to_csv('../data/clean/colloquial/email_msgs_clean.csv', index=False)"
   ]
  },
  {
   "cell_type": "code",
   "execution_count": null,
   "id": "1460f4d9",
   "metadata": {},
   "outputs": [],
   "source": []
  }
 ],
 "metadata": {
  "kernelspec": {
   "display_name": "bootcampDev",
   "language": "python",
   "name": "bootcampdev"
  },
  "language_info": {
   "codemirror_mode": {
    "name": "ipython",
    "version": 3
   },
   "file_extension": ".py",
   "mimetype": "text/x-python",
   "name": "python",
   "nbconvert_exporter": "python",
   "pygments_lexer": "ipython3",
   "version": "3.11.7"
  }
 },
 "nbformat": 4,
 "nbformat_minor": 5
}
