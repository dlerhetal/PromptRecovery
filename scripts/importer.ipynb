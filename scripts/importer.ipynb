{
 "cells": [
  {
   "cell_type": "code",
   "execution_count": 1,
   "id": "6d049696",
   "metadata": {},
   "outputs": [],
   "source": [
    "import json\n",
    "import pandas as pd\n",
    "from datasets import load_dataset"
   ]
  },
  {
   "cell_type": "code",
   "execution_count": 2,
   "id": "eeedc5fd",
   "metadata": {},
   "outputs": [],
   "source": [
    "# Methods\n",
    "def make_df(eq, col_name):\n",
    "    df_ = df[df[col_name] == eq].reset_index(drop=True)\n",
    "    return df_\n",
    "\n"
   ]
  },
  {
   "cell_type": "markdown",
   "id": "051e1e2e",
   "metadata": {},
   "source": [
    "# Codes"
   ]
  },
  {
   "cell_type": "code",
   "execution_count": 6,
   "id": "85b2fe6d",
   "metadata": {},
   "outputs": [],
   "source": [
    "# Pull n examples from a huggingface streaming dataset\n",
    "def sample_dataset(dataset_name, n=5000):\n",
    "    dataset = load_dataset(dataset_name, split='train', streaming=True)\n",
    "\n",
    "    samples = []\n",
    "    langs = []\n",
    "    # Boxes up the required fields from the streaming dataset\n",
    "    for example in dataset:\n",
    "        samples.append(example['code'])\n",
    "        langs.append(example['language'])\n",
    "        if len(samples) >= n:\n",
    "            break\n",
    "\n",
    "    return samples, langs\n",
    "\n",
    "samples, langs = sample_dataset('codeparrot/github-code')"
   ]
  },
  {
   "cell_type": "code",
   "execution_count": 7,
   "id": "81e57545",
   "metadata": {},
   "outputs": [],
   "source": [
    "df = pd.DataFrame({'samples':samples,'langs':langs})\n",
    "\n",
    "# Take 25 from the top 12 languages\n",
    "variety = 12\n",
    "sample_size = 25\n",
    "langs = df['langs'].value_counts(ascending=False).index[:variety]\n",
    "\n",
    "dfs = [make_df(x, 'langs') for x in langs]\n",
    "samples = pd.concat([ dfs[x].sample(sample_size) for x in range(variety) ]).reset_index(drop=True)\n",
    "samples.to_csv('../data/clean/misc/code.csv', index=False)"
   ]
  },
  {
   "cell_type": "markdown",
   "id": "fac28a65",
   "metadata": {},
   "source": [
    "# Med Transcripts"
   ]
  },
  {
   "cell_type": "code",
   "execution_count": 8,
   "id": "1dd81d25",
   "metadata": {},
   "outputs": [],
   "source": [
    "df = pd.read_csv('../data/raw/nonfiction/med_trans.csv', index_col='Unnamed: 0')\n",
    "df = df.dropna()\n",
    "df = df.drop_duplicates()\n",
    "df['medical_specialty'] = [x.replace(\" \", \"\") for x in df['medical_specialty']]\n",
    "df = df[['transcription','medical_specialty']]\n",
    "df.to_csv('../data/clean/nonfiction/med_trans_clean.csv', index=False)"
   ]
  },
  {
   "cell_type": "markdown",
   "id": "bf1ff84f",
   "metadata": {},
   "source": [
    "# Movie Summaries"
   ]
  },
  {
   "cell_type": "code",
   "execution_count": 9,
   "id": "e6785a2a",
   "metadata": {},
   "outputs": [],
   "source": [
    "df = pd.read_csv('../data/raw/fiction/movie_sums.csv')\n",
    "\n",
    "# Take 25 from the top 12 genres\n",
    "variety = 12\n",
    "sample_size = 25\n",
    "genres = df['Genre'].value_counts().index[1:variety+1]\n",
    "\n",
    "dfs = [make_df(x, 'Genre') for x in genres]\n",
    "samples = pd.concat([ dfs[x].sample(sample_size) for x in range(variety) ]).reset_index(drop=True)\n",
    "samples = samples[['Plot','Genre']]\n",
    "samples.to_csv('../data/clean/fiction/movie_summs_clean.csv', index=False)"
   ]
  },
  {
   "cell_type": "code",
   "execution_count": 10,
   "id": "672644ad",
   "metadata": {},
   "outputs": [
    {
     "data": {
      "text/plain": [
       "436"
      ]
     },
     "execution_count": 10,
     "metadata": {},
     "output_type": "execute_result"
    }
   ],
   "source": [
    "len(df['Plot'][2])"
   ]
  },
  {
   "cell_type": "markdown",
   "id": "10c059e5",
   "metadata": {},
   "source": [
    "# SAT Questions"
   ]
  },
  {
   "cell_type": "code",
   "execution_count": 11,
   "id": "859657df",
   "metadata": {},
   "outputs": [],
   "source": [
    "df = pd.read_csv('../data/raw/interrogative/sat_qstns.csv')"
   ]
  },
  {
   "cell_type": "code",
   "execution_count": 12,
   "id": "db6e6d6a",
   "metadata": {},
   "outputs": [
    {
     "data": {
      "text/plain": [
       "subject\n",
       "us_history       1108\n",
       "world_history     272\n",
       "Name: count, dtype: int64"
      ]
     },
     "execution_count": 12,
     "metadata": {},
     "output_type": "execute_result"
    }
   ],
   "source": [
    "df['subject'].value_counts()"
   ]
  },
  {
   "cell_type": "markdown",
   "id": "54e117c5",
   "metadata": {},
   "source": [
    "# Case Law"
   ]
  },
  {
   "cell_type": "code",
   "execution_count": 215,
   "id": "0f3b108c",
   "metadata": {},
   "outputs": [
    {
     "name": "stderr",
     "output_type": "stream",
     "text": [
      "C:\\Users\\karso\\AppData\\Local\\Temp\\ipykernel_19644\\3799700152.py:2: FutureWarning: list_datasets is deprecated and will be removed in the next major version of datasets. Use 'huggingface_hub.list_datasets' instead.\n",
      "  datasets_list = list_datasets()\n"
     ]
    }
   ],
   "source": [
    "from datasets import list_datasets\n",
    "datasets_list = list_datasets()\n",
    "\n",
    "#dataset = load_dataset(\"TeraflopAI/Caselaw_Access_Project\")\n"
   ]
  },
  {
   "cell_type": "code",
   "execution_count": 216,
   "id": "23673ce3",
   "metadata": {},
   "outputs": [
    {
     "name": "stdout",
     "output_type": "stream",
     "text": [
      "123098\n"
     ]
    }
   ],
   "source": [
    "print(len(datasets_list))"
   ]
  },
  {
   "cell_type": "code",
   "execution_count": 219,
   "id": "c16ac7ef",
   "metadata": {},
   "outputs": [
    {
     "name": "stderr",
     "output_type": "stream",
     "text": [
      "IOPub data rate exceeded.\n",
      "The notebook server will temporarily stop sending output\n",
      "to the client in order to avoid crashing it.\n",
      "To change this limit, set the config variable\n",
      "`--NotebookApp.iopub_data_rate_limit`.\n",
      "\n",
      "Current values:\n",
      "NotebookApp.iopub_data_rate_limit=1000000.0 (bytes/sec)\n",
      "NotebookApp.rate_limit_window=3.0 (secs)\n",
      "\n"
     ]
    }
   ],
   "source": [
    "print(', '.join(dataset for dataset in datasets_list))\n"
   ]
  },
  {
   "cell_type": "code",
   "execution_count": 220,
   "id": "a91fae8e",
   "metadata": {},
   "outputs": [
    {
     "name": "stdout",
     "output_type": "stream",
     "text": [
      "acronym_identification\n"
     ]
    }
   ],
   "source": [
    "print(next(iter(datasets_list)))"
   ]
  },
  {
   "cell_type": "code",
   "execution_count": null,
   "id": "b012ab0c",
   "metadata": {},
   "outputs": [],
   "source": [
    "def sample_dataset(dataset_name, n=5000):\n",
    "    dataset = load_dataset(dataset_name, split='train', streaming=True)\n",
    "\n",
    "    samples = []\n",
    "    langs = []\n",
    "    # Boxes up the required fields from the streaming dataset\n",
    "    for example in dataset:\n",
    "        samples.append(example['code'])\n",
    "        langs.append(example['language'])\n",
    "        if len(samples) >= n:\n",
    "            break\n",
    "\n",
    "    return samples, langs\n",
    "\n",
    "samples, langs = sample_dataset('codeparrot/github-code')"
   ]
  }
 ],
 "metadata": {
  "kernelspec": {
   "display_name": "bootcampDev",
   "language": "python",
   "name": "bootcampdev"
  },
  "language_info": {
   "codemirror_mode": {
    "name": "ipython",
    "version": 3
   },
   "file_extension": ".py",
   "mimetype": "text/x-python",
   "name": "python",
   "nbconvert_exporter": "python",
   "pygments_lexer": "ipython3",
   "version": "3.11.7"
  }
 },
 "nbformat": 4,
 "nbformat_minor": 5
}
