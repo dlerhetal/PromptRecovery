{
 "cells": [
  {
   "cell_type": "code",
   "execution_count": 1,
   "id": "6d049696",
   "metadata": {},
   "outputs": [],
   "source": [
    "import json\n",
    "import pandas as pd\n",
    "from datasets import load_dataset"
   ]
  },
  {
   "cell_type": "code",
   "execution_count": 2,
   "id": "eeedc5fd",
   "metadata": {},
   "outputs": [],
   "source": [
    "# Methods\n",
    "def make_df(eq, col_name):\n",
    "    df_ = df[df[col_name] == eq].reset_index(drop=True)\n",
    "    return df_\n",
    "\n"
   ]
  },
  {
   "cell_type": "markdown",
   "id": "051e1e2e",
   "metadata": {},
   "source": [
    "# Codes"
   ]
  },
  {
   "cell_type": "code",
   "execution_count": 77,
   "id": "85b2fe6d",
   "metadata": {},
   "outputs": [
    {
     "name": "stderr",
     "output_type": "stream",
     "text": [
      "C:\\Users\\karso\\anaconda3\\envs\\bootcampDev\\Lib\\site-packages\\datasets\\load.py:1461: FutureWarning: The repository for codeparrot/github-code contains custom code which must be executed to correctly load the dataset. You can inspect the repository content at https://hf.co/datasets/codeparrot/github-code\n",
      "You can avoid this message in future by passing the argument `trust_remote_code=True`.\n",
      "Passing `trust_remote_code=True` will be mandatory to load this dataset from the next major release of `datasets`.\n",
      "  warnings.warn(\n"
     ]
    }
   ],
   "source": [
    "# Pull n examples from a huggingface streaming dataset\n",
    "def sample_dataset(dataset_name, n=5000):\n",
    "    dataset = load_dataset(dataset_name, split='train', streaming=True)\n",
    "\n",
    "    samples = []\n",
    "    langs = []\n",
    "    # Boxes up the required fields from the streaming dataset\n",
    "    for example in dataset:\n",
    "        samples.append(example['code'])\n",
    "        langs.append(example['language'])\n",
    "        if len(samples) >= n:\n",
    "            break\n",
    "\n",
    "    return samples, langs\n",
    "\n",
    "samples, langs = sample_dataset('codeparrot/github-code')"
   ]
  },
  {
   "cell_type": "code",
   "execution_count": 78,
   "id": "81e57545",
   "metadata": {},
   "outputs": [
    {
     "data": {
      "text/html": [
       "<div>\n",
       "<style scoped>\n",
       "    .dataframe tbody tr th:only-of-type {\n",
       "        vertical-align: middle;\n",
       "    }\n",
       "\n",
       "    .dataframe tbody tr th {\n",
       "        vertical-align: top;\n",
       "    }\n",
       "\n",
       "    .dataframe thead th {\n",
       "        text-align: right;\n",
       "    }\n",
       "</style>\n",
       "<table border=\"1\" class=\"dataframe\">\n",
       "  <thead>\n",
       "    <tr style=\"text-align: right;\">\n",
       "      <th></th>\n",
       "      <th>text</th>\n",
       "      <th>label</th>\n",
       "    </tr>\n",
       "  </thead>\n",
       "  <tbody>\n",
       "    <tr>\n",
       "      <th>0</th>\n",
       "      <td>import {keccak256, bufferToHex} from \"ethereum...</td>\n",
       "      <td>JavaScript</td>\n",
       "    </tr>\n",
       "    <tr>\n",
       "      <th>1</th>\n",
       "      <td>(function (angular) {\\n    \"use strict\";\\n    ...</td>\n",
       "      <td>JavaScript</td>\n",
       "    </tr>\n",
       "    <tr>\n",
       "      <th>2</th>\n",
       "      <td>define('exports@*', [], function(require, expo...</td>\n",
       "      <td>JavaScript</td>\n",
       "    </tr>\n",
       "    <tr>\n",
       "      <th>3</th>\n",
       "      <td>window.ImageViewer = function(url, alt, title)...</td>\n",
       "      <td>JavaScript</td>\n",
       "    </tr>\n",
       "    <tr>\n",
       "      <th>4</th>\n",
       "      <td>import React, { Component } from 'react';\\n\\nc...</td>\n",
       "      <td>JavaScript</td>\n",
       "    </tr>\n",
       "    <tr>\n",
       "      <th>...</th>\n",
       "      <td>...</td>\n",
       "      <td>...</td>\n",
       "    </tr>\n",
       "    <tr>\n",
       "      <th>295</th>\n",
       "      <td>body {\\n  padding-top: 65px;\\n}\\n\\n#footer {\\n...</td>\n",
       "      <td>CSS</td>\n",
       "    </tr>\n",
       "    <tr>\n",
       "      <th>296</th>\n",
       "      <td>@charset \"utf-8\";\\n/* CSS Document */\\n/* ----...</td>\n",
       "      <td>CSS</td>\n",
       "    </tr>\n",
       "    <tr>\n",
       "      <th>297</th>\n",
       "      <td>/*!\\n * # Semantic UI 2.1.6 - Message\\n * http...</td>\n",
       "      <td>CSS</td>\n",
       "    </tr>\n",
       "    <tr>\n",
       "      <th>298</th>\n",
       "      <td>.home-layout {\\n  padding-top: 50px;\\n  paddin...</td>\n",
       "      <td>CSS</td>\n",
       "    </tr>\n",
       "    <tr>\n",
       "      <th>299</th>\n",
       "      <td>body {\\n  font-family: Arial, Verdana, \"Times ...</td>\n",
       "      <td>CSS</td>\n",
       "    </tr>\n",
       "  </tbody>\n",
       "</table>\n",
       "<p>300 rows × 2 columns</p>\n",
       "</div>"
      ],
      "text/plain": [
       "                                                  text       label\n",
       "0    import {keccak256, bufferToHex} from \"ethereum...  JavaScript\n",
       "1    (function (angular) {\\n    \"use strict\";\\n    ...  JavaScript\n",
       "2    define('exports@*', [], function(require, expo...  JavaScript\n",
       "3    window.ImageViewer = function(url, alt, title)...  JavaScript\n",
       "4    import React, { Component } from 'react';\\n\\nc...  JavaScript\n",
       "..                                                 ...         ...\n",
       "295  body {\\n  padding-top: 65px;\\n}\\n\\n#footer {\\n...         CSS\n",
       "296  @charset \"utf-8\";\\n/* CSS Document */\\n/* ----...         CSS\n",
       "297  /*!\\n * # Semantic UI 2.1.6 - Message\\n * http...         CSS\n",
       "298  .home-layout {\\n  padding-top: 50px;\\n  paddin...         CSS\n",
       "299  body {\\n  font-family: Arial, Verdana, \"Times ...         CSS\n",
       "\n",
       "[300 rows x 2 columns]"
      ]
     },
     "metadata": {},
     "output_type": "display_data"
    }
   ],
   "source": [
    "df = pd.DataFrame({'text':samples,'label':langs})\n",
    "\n",
    "# Take 25 from the top 12 languages\n",
    "variety = 12\n",
    "sample_size = 25\n",
    "langs = df['label'].value_counts(ascending=False).index[:variety]\n",
    "\n",
    "dfs = [make_df(x, 'label') for x in langs]\n",
    "samples = pd.concat([ dfs[x].sample(sample_size) for x in range(variety) ]).reset_index(drop=True)\n",
    "samples.to_csv('../data/clean/misc/code.csv', index=False)\n",
    "display(samples)"
   ]
  },
  {
   "cell_type": "markdown",
   "id": "fac28a65",
   "metadata": {},
   "source": [
    "# Med Transcripts"
   ]
  },
  {
   "cell_type": "code",
   "execution_count": 75,
   "id": "ea76a5d9",
   "metadata": {},
   "outputs": [
    {
     "data": {
      "text/plain": [
       "4999"
      ]
     },
     "execution_count": 75,
     "metadata": {},
     "output_type": "execute_result"
    }
   ],
   "source": [
    "df = pd.read_csv('../data/raw/nonfiction/med_trans.csv', index_col='Unnamed: 0')\n",
    "len(df)"
   ]
  },
  {
   "cell_type": "code",
   "execution_count": 76,
   "id": "1dd81d25",
   "metadata": {},
   "outputs": [
    {
     "data": {
      "text/html": [
       "<div>\n",
       "<style scoped>\n",
       "    .dataframe tbody tr th:only-of-type {\n",
       "        vertical-align: middle;\n",
       "    }\n",
       "\n",
       "    .dataframe tbody tr th {\n",
       "        vertical-align: top;\n",
       "    }\n",
       "\n",
       "    .dataframe thead th {\n",
       "        text-align: right;\n",
       "    }\n",
       "</style>\n",
       "<table border=\"1\" class=\"dataframe\">\n",
       "  <thead>\n",
       "    <tr style=\"text-align: right;\">\n",
       "      <th></th>\n",
       "      <th>text</th>\n",
       "      <th>label</th>\n",
       "    </tr>\n",
       "  </thead>\n",
       "  <tbody>\n",
       "    <tr>\n",
       "      <th>0</th>\n",
       "      <td>HISTORY OF PRESENT ILLNESS:  This is a 91-year...</td>\n",
       "      <td>EmergencyRoomReports</td>\n",
       "    </tr>\n",
       "    <tr>\n",
       "      <th>1</th>\n",
       "      <td>PREOPERATIVE DIAGNOSIS:,  Right breast mass wi...</td>\n",
       "      <td>Surgery</td>\n",
       "    </tr>\n",
       "    <tr>\n",
       "      <th>2</th>\n",
       "      <td>DIAGNOSES PROBLEMS:,1.  Orthostatic hypotensio...</td>\n",
       "      <td>OfficeNotes</td>\n",
       "    </tr>\n",
       "    <tr>\n",
       "      <th>3</th>\n",
       "      <td>CC:, Falling.,HX:, This 67y/o RHF was diagnose...</td>\n",
       "      <td>Radiology</td>\n",
       "    </tr>\n",
       "    <tr>\n",
       "      <th>4</th>\n",
       "      <td>PREOPERATIVE DIAGNOSIS:,  Left renal mass, 5 c...</td>\n",
       "      <td>Surgery</td>\n",
       "    </tr>\n",
       "    <tr>\n",
       "      <th>...</th>\n",
       "      <td>...</td>\n",
       "      <td>...</td>\n",
       "    </tr>\n",
       "    <tr>\n",
       "      <th>295</th>\n",
       "      <td>PRELIMINARY DIAGNOSES:,1.  Contusion of the fr...</td>\n",
       "      <td>Neurology</td>\n",
       "    </tr>\n",
       "    <tr>\n",
       "      <th>296</th>\n",
       "      <td>TECHNIQUE: , Sequential axial CT images were o...</td>\n",
       "      <td>Radiology</td>\n",
       "    </tr>\n",
       "    <tr>\n",
       "      <th>297</th>\n",
       "      <td>PREOPERATIVE DIAGNOSES:  ,1.  Posttraumatic na...</td>\n",
       "      <td>ENT-Otolaryngology</td>\n",
       "    </tr>\n",
       "    <tr>\n",
       "      <th>298</th>\n",
       "      <td>PREOPERATIVE DIAGNOSES:,1.  Plantar flex third...</td>\n",
       "      <td>Surgery</td>\n",
       "    </tr>\n",
       "    <tr>\n",
       "      <th>299</th>\n",
       "      <td>ADMISSION DIAGNOSIS: , Bilateral l5 spondyloly...</td>\n",
       "      <td>Orthopedic</td>\n",
       "    </tr>\n",
       "  </tbody>\n",
       "</table>\n",
       "<p>300 rows × 2 columns</p>\n",
       "</div>"
      ],
      "text/plain": [
       "                                                  text                 label\n",
       "0    HISTORY OF PRESENT ILLNESS:  This is a 91-year...  EmergencyRoomReports\n",
       "1    PREOPERATIVE DIAGNOSIS:,  Right breast mass wi...               Surgery\n",
       "2    DIAGNOSES PROBLEMS:,1.  Orthostatic hypotensio...           OfficeNotes\n",
       "3    CC:, Falling.,HX:, This 67y/o RHF was diagnose...             Radiology\n",
       "4    PREOPERATIVE DIAGNOSIS:,  Left renal mass, 5 c...               Surgery\n",
       "..                                                 ...                   ...\n",
       "295  PRELIMINARY DIAGNOSES:,1.  Contusion of the fr...             Neurology\n",
       "296  TECHNIQUE: , Sequential axial CT images were o...             Radiology\n",
       "297  PREOPERATIVE DIAGNOSES:  ,1.  Posttraumatic na...    ENT-Otolaryngology\n",
       "298  PREOPERATIVE DIAGNOSES:,1.  Plantar flex third...               Surgery\n",
       "299  ADMISSION DIAGNOSIS: , Bilateral l5 spondyloly...            Orthopedic\n",
       "\n",
       "[300 rows x 2 columns]"
      ]
     },
     "metadata": {},
     "output_type": "display_data"
    }
   ],
   "source": [
    "df = df.dropna()\n",
    "df = df.drop_duplicates()\n",
    "df['medical_specialty'] = [x.replace(\" \", \"\") for x in df['medical_specialty']]\n",
    "df = df[['transcription','medical_specialty']]\n",
    "df = df.rename(columns={'transcription':'text','medical_specialty':'label'})\n",
    "df = df.sample(300).reset_index(drop=True)\n",
    "df.to_csv('../data/clean/nonfiction/med_trans_clean.csv', index=False)\n",
    "display(df)"
   ]
  },
  {
   "cell_type": "markdown",
   "id": "bf1ff84f",
   "metadata": {},
   "source": [
    "# Movie Summaries"
   ]
  },
  {
   "cell_type": "code",
   "execution_count": 68,
   "id": "22d5bb68",
   "metadata": {},
   "outputs": [
    {
     "data": {
      "text/plain": [
       "34886"
      ]
     },
     "execution_count": 68,
     "metadata": {},
     "output_type": "execute_result"
    }
   ],
   "source": [
    "# DOWNLOAD NEEDED: Uncomment after you download the data\n",
    "\n",
    "df = pd.read_csv('../data/raw/fiction/movie_sums.csv')\n",
    "len(df)"
   ]
  },
  {
   "cell_type": "code",
   "execution_count": 70,
   "id": "e6785a2a",
   "metadata": {},
   "outputs": [
    {
     "data": {
      "text/html": [
       "<div>\n",
       "<style scoped>\n",
       "    .dataframe tbody tr th:only-of-type {\n",
       "        vertical-align: middle;\n",
       "    }\n",
       "\n",
       "    .dataframe tbody tr th {\n",
       "        vertical-align: top;\n",
       "    }\n",
       "\n",
       "    .dataframe thead th {\n",
       "        text-align: right;\n",
       "    }\n",
       "</style>\n",
       "<table border=\"1\" class=\"dataframe\">\n",
       "  <thead>\n",
       "    <tr style=\"text-align: right;\">\n",
       "      <th></th>\n",
       "      <th>text</th>\n",
       "      <th>label</th>\n",
       "    </tr>\n",
       "  </thead>\n",
       "  <tbody>\n",
       "    <tr>\n",
       "      <th>0</th>\n",
       "      <td>U.S. Marines Lance Corporal Harold Dawson and ...</td>\n",
       "      <td>drama</td>\n",
       "    </tr>\n",
       "    <tr>\n",
       "      <th>1</th>\n",
       "      <td>The movie begins at present day with Saket Ram...</td>\n",
       "      <td>drama</td>\n",
       "    </tr>\n",
       "    <tr>\n",
       "      <th>2</th>\n",
       "      <td>The father escaped the Soviet invasion of Buda...</td>\n",
       "      <td>drama</td>\n",
       "    </tr>\n",
       "    <tr>\n",
       "      <th>3</th>\n",
       "      <td>A young Lakota Sioux (Lou Diamond Phillips) is...</td>\n",
       "      <td>drama</td>\n",
       "    </tr>\n",
       "    <tr>\n",
       "      <th>4</th>\n",
       "      <td>Heinrich Faust (Johannes Zeiler) is driven by ...</td>\n",
       "      <td>drama</td>\n",
       "    </tr>\n",
       "    <tr>\n",
       "      <th>...</th>\n",
       "      <td>...</td>\n",
       "      <td>...</td>\n",
       "    </tr>\n",
       "    <tr>\n",
       "      <th>295</th>\n",
       "      <td>Marcy Tizard (Janeane Garofalo) is assistant t...</td>\n",
       "      <td>romantic comedy</td>\n",
       "    </tr>\n",
       "    <tr>\n",
       "      <th>296</th>\n",
       "      <td>Vasu (Santhanam) and Saravanan (Arya) are best...</td>\n",
       "      <td>romantic comedy</td>\n",
       "    </tr>\n",
       "    <tr>\n",
       "      <th>297</th>\n",
       "      <td>Avinash (Allari Naresh) is a small-time crook ...</td>\n",
       "      <td>romantic comedy</td>\n",
       "    </tr>\n",
       "    <tr>\n",
       "      <th>298</th>\n",
       "      <td>The young and beautiful Suzanne O'Neill (Barba...</td>\n",
       "      <td>romantic comedy</td>\n",
       "    </tr>\n",
       "    <tr>\n",
       "      <th>299</th>\n",
       "      <td>In 2010, Gil Pender, a successful but creative...</td>\n",
       "      <td>romantic comedy</td>\n",
       "    </tr>\n",
       "  </tbody>\n",
       "</table>\n",
       "<p>300 rows × 2 columns</p>\n",
       "</div>"
      ],
      "text/plain": [
       "                                                  text            label\n",
       "0    U.S. Marines Lance Corporal Harold Dawson and ...            drama\n",
       "1    The movie begins at present day with Saket Ram...            drama\n",
       "2    The father escaped the Soviet invasion of Buda...            drama\n",
       "3    A young Lakota Sioux (Lou Diamond Phillips) is...            drama\n",
       "4    Heinrich Faust (Johannes Zeiler) is driven by ...            drama\n",
       "..                                                 ...              ...\n",
       "295  Marcy Tizard (Janeane Garofalo) is assistant t...  romantic comedy\n",
       "296  Vasu (Santhanam) and Saravanan (Arya) are best...  romantic comedy\n",
       "297  Avinash (Allari Naresh) is a small-time crook ...  romantic comedy\n",
       "298  The young and beautiful Suzanne O'Neill (Barba...  romantic comedy\n",
       "299  In 2010, Gil Pender, a successful but creative...  romantic comedy\n",
       "\n",
       "[300 rows x 2 columns]"
      ]
     },
     "metadata": {},
     "output_type": "display_data"
    }
   ],
   "source": [
    "# Take 25 from the top 12 labeled genres\n",
    "variety = 12\n",
    "sample_size = 25\n",
    "genres = df['Genre'].value_counts().index[1:variety+1]\n",
    "\n",
    "dfs = [make_df(x, 'Genre') for x in genres]\n",
    "samples = pd.concat([ dfs[x].sample(sample_size) for x in range(variety) ]).reset_index(drop=True)\n",
    "samples = samples[['Plot','Genre']]\n",
    "samples = samples.rename(columns={'Plot':'text','Genre':'label'})\n",
    "samples.to_csv('../data/clean/fiction/movie_summs_clean.csv', index=False)\n",
    "display(samples)"
   ]
  },
  {
   "cell_type": "markdown",
   "id": "10c059e5",
   "metadata": {},
   "source": [
    "# SAT Questions"
   ]
  },
  {
   "cell_type": "code",
   "execution_count": 73,
   "id": "0069ceab",
   "metadata": {},
   "outputs": [
    {
     "data": {
      "text/plain": [
       "1380"
      ]
     },
     "execution_count": 73,
     "metadata": {},
     "output_type": "execute_result"
    }
   ],
   "source": [
    "df = pd.read_csv('../data/raw/interrogative/sat_qstns.csv')\n",
    "len(df)"
   ]
  },
  {
   "cell_type": "code",
   "execution_count": 74,
   "id": "859657df",
   "metadata": {},
   "outputs": [
    {
     "data": {
      "text/html": [
       "<div>\n",
       "<style scoped>\n",
       "    .dataframe tbody tr th:only-of-type {\n",
       "        vertical-align: middle;\n",
       "    }\n",
       "\n",
       "    .dataframe tbody tr th {\n",
       "        vertical-align: top;\n",
       "    }\n",
       "\n",
       "    .dataframe thead th {\n",
       "        text-align: right;\n",
       "    }\n",
       "</style>\n",
       "<table border=\"1\" class=\"dataframe\">\n",
       "  <thead>\n",
       "    <tr style=\"text-align: right;\">\n",
       "      <th></th>\n",
       "      <th>text</th>\n",
       "    </tr>\n",
       "  </thead>\n",
       "  <tbody>\n",
       "    <tr>\n",
       "      <th>0</th>\n",
       "      <td>Which of the following is a nickname for the g...</td>\n",
       "    </tr>\n",
       "    <tr>\n",
       "      <th>1</th>\n",
       "      <td>Which Mesoamerican culture used chinampas to i...</td>\n",
       "    </tr>\n",
       "    <tr>\n",
       "      <th>2</th>\n",
       "      <td>The thin disguise of 'equal' accommodations fo...</td>\n",
       "    </tr>\n",
       "    <tr>\n",
       "      <th>3</th>\n",
       "      <td>Who accused John Quincy Adams of making a \"cor...</td>\n",
       "    </tr>\n",
       "    <tr>\n",
       "      <th>4</th>\n",
       "      <td>Which quote below is from Thomas Jefferson's f...</td>\n",
       "    </tr>\n",
       "    <tr>\n",
       "      <th>...</th>\n",
       "      <td>...</td>\n",
       "    </tr>\n",
       "    <tr>\n",
       "      <th>295</th>\n",
       "      <td>What was Sigmund Freud's intent with his break...</td>\n",
       "    </tr>\n",
       "    <tr>\n",
       "      <th>296</th>\n",
       "      <td>In The American Crisis, no. 1, Thomas Paine re...</td>\n",
       "    </tr>\n",
       "    <tr>\n",
       "      <th>297</th>\n",
       "      <td>How did the colonists react to the passage of ...</td>\n",
       "    </tr>\n",
       "    <tr>\n",
       "      <th>298</th>\n",
       "      <td>It had been, to say the least, an interesting ...</td>\n",
       "    </tr>\n",
       "    <tr>\n",
       "      <th>299</th>\n",
       "      <td>Which of the following was president when the ...</td>\n",
       "    </tr>\n",
       "  </tbody>\n",
       "</table>\n",
       "<p>300 rows × 1 columns</p>\n",
       "</div>"
      ],
      "text/plain": [
       "                                                  text\n",
       "0    Which of the following is a nickname for the g...\n",
       "1    Which Mesoamerican culture used chinampas to i...\n",
       "2    The thin disguise of 'equal' accommodations fo...\n",
       "3    Who accused John Quincy Adams of making a \"cor...\n",
       "4    Which quote below is from Thomas Jefferson's f...\n",
       "..                                                 ...\n",
       "295  What was Sigmund Freud's intent with his break...\n",
       "296  In The American Crisis, no. 1, Thomas Paine re...\n",
       "297  How did the colonists react to the passage of ...\n",
       "298  It had been, to say the least, an interesting ...\n",
       "299  Which of the following was president when the ...\n",
       "\n",
       "[300 rows x 1 columns]"
      ]
     },
     "metadata": {},
     "output_type": "display_data"
    }
   ],
   "source": [
    "txts = []\n",
    "texts = df['prompt'].dropna()\n",
    "txts += [x for x in texts if '?' in x]\n",
    "txts = pd.DataFrame({'text':txts})\n",
    "txts_smpled = txts.sample(300).reset_index(drop=True)\n",
    "txts_smpled.to_csv('../data/clean/interrogative/sat_qstns_clean.csv', index=False)\n",
    "display(txts_smpled)"
   ]
  },
  {
   "cell_type": "markdown",
   "id": "54e117c5",
   "metadata": {},
   "source": [
    "# Case Law"
   ]
  },
  {
   "cell_type": "code",
   "execution_count": 72,
   "id": "700a2953",
   "metadata": {
    "scrolled": false
   },
   "outputs": [
    {
     "data": {
      "application/vnd.jupyter.widget-view+json": {
       "model_id": "a8df842587cb400f948849f645fac929",
       "version_major": 2,
       "version_minor": 0
      },
      "text/plain": [
       "Resolving data files:   0%|          | 0/59 [00:00<?, ?it/s]"
      ]
     },
     "metadata": {},
     "output_type": "display_data"
    },
    {
     "data": {
      "text/html": [
       "<div>\n",
       "<style scoped>\n",
       "    .dataframe tbody tr th:only-of-type {\n",
       "        vertical-align: middle;\n",
       "    }\n",
       "\n",
       "    .dataframe tbody tr th {\n",
       "        vertical-align: top;\n",
       "    }\n",
       "\n",
       "    .dataframe thead th {\n",
       "        text-align: right;\n",
       "    }\n",
       "</style>\n",
       "<table border=\"1\" class=\"dataframe\">\n",
       "  <thead>\n",
       "    <tr style=\"text-align: right;\">\n",
       "      <th></th>\n",
       "      <th>text</th>\n",
       "    </tr>\n",
       "  </thead>\n",
       "  <tbody>\n",
       "    <tr>\n",
       "      <th>0</th>\n",
       "      <td>OPINION\\nRABINOWITZ, Justice.\\nI. INTRODUCTION...</td>\n",
       "    </tr>\n",
       "    <tr>\n",
       "      <th>1</th>\n",
       "      <td>The data summary stated that there was a layer...</td>\n",
       "    </tr>\n",
       "    <tr>\n",
       "      <th>2</th>\n",
       "      <td>NCI contends that Green's visit was scheduled ...</td>\n",
       "    </tr>\n",
       "    <tr>\n",
       "      <th>3</th>\n",
       "      <td>In April 1993, NCI moved for partial summary j...</td>\n",
       "    </tr>\n",
       "    <tr>\n",
       "      <th>4</th>\n",
       "      <td>In Brinderson Corp. v. Hampton Rds. San. Dist....</td>\n",
       "    </tr>\n",
       "    <tr>\n",
       "      <th>...</th>\n",
       "      <td>...</td>\n",
       "    </tr>\n",
       "    <tr>\n",
       "      <th>295</th>\n",
       "      <td>Gargan and Knix dealt with notarized statement...</td>\n",
       "    </tr>\n",
       "    <tr>\n",
       "      <th>296</th>\n",
       "      <td>Harrison's conviction is AFFIRMED.\\n. In Garga...</td>\n",
       "    </tr>\n",
       "    <tr>\n",
       "      <th>297</th>\n",
       "      <td>OPINION\\nEASTAUGH, Justice.\\nWe must here cons...</td>\n",
       "    </tr>\n",
       "    <tr>\n",
       "      <th>298</th>\n",
       "      <td>A hearing on Huston's August 21, 1991, applica...</td>\n",
       "    </tr>\n",
       "    <tr>\n",
       "      <th>299</th>\n",
       "      <td>II. DISCUSSION\\nThis case turns on statutory i...</td>\n",
       "    </tr>\n",
       "  </tbody>\n",
       "</table>\n",
       "<p>300 rows × 1 columns</p>\n",
       "</div>"
      ],
      "text/plain": [
       "                                                  text\n",
       "0    OPINION\\nRABINOWITZ, Justice.\\nI. INTRODUCTION...\n",
       "1    The data summary stated that there was a layer...\n",
       "2    NCI contends that Green's visit was scheduled ...\n",
       "3    In April 1993, NCI moved for partial summary j...\n",
       "4    In Brinderson Corp. v. Hampton Rds. San. Dist....\n",
       "..                                                 ...\n",
       "295  Gargan and Knix dealt with notarized statement...\n",
       "296  Harrison's conviction is AFFIRMED.\\n. In Garga...\n",
       "297  OPINION\\nEASTAUGH, Justice.\\nWe must here cons...\n",
       "298  A hearing on Huston's August 21, 1991, applica...\n",
       "299  II. DISCUSSION\\nThis case turns on statutory i...\n",
       "\n",
       "[300 rows x 1 columns]"
      ]
     },
     "metadata": {},
     "output_type": "display_data"
    }
   ],
   "source": [
    "# Set up streaming dataset object\n",
    "dataset_stream = load_dataset(\"TeraflopAI/Caselaw_Access_Project\", split=\"train\", streaming=True)\n",
    "# Initialize vars\n",
    "len_exam = 0\n",
    "txts = []\n",
    "cum_len = 0\n",
    "\n",
    "# Iterate through streaming dataset\n",
    "for example in dataset_stream:\n",
    "    # Check for less than 300 examples\n",
    "    if len_exam <= 300:\n",
    "        # Split up current example by new line\n",
    "        split_txt = example['text'].split(\"\\n\")\n",
    "        # Start current example counter\n",
    "        counter = 0\n",
    "        # Start current example placeholder\n",
    "        placeholder = 1\n",
    "\n",
    "        # Iterate through the new line splits of the current example\n",
    "        for x in range(len(split_txt)):\n",
    "            # Save current line\n",
    "            row = split_txt[x]\n",
    "            # Save its length\n",
    "            char_len = len(row)\n",
    "            # If our current new_txt is less than 1500 characters:\n",
    "            if cum_len < 1500:\n",
    "                # Then take the current example in the range of counter -> placeholder\n",
    "                new_txt = \"\\n\".join(split_txt[counter:placeholder])\n",
    "                # Reassess the sumulative new_text length\n",
    "                cum_len += char_len        \n",
    "            # If new_txt is over 1500 characters\n",
    "            else:\n",
    "                # Then store new_txt into txts\n",
    "                txts.append(new_txt)\n",
    "                # Increase counter to placeholder\n",
    "                counter = placeholder\n",
    "                # Reset cumulative length\n",
    "                cum_len = 0\n",
    "            # Update placeholder\n",
    "            placeholder += 1\n",
    "        # Update length of txts\n",
    "        len_exam = len(txts)\n",
    "    # Otherwise Break\n",
    "    else:\n",
    "        break\n",
    "    \n",
    "# Store new texts into a DataFrame\n",
    "df = pd.DataFrame({\"text\":txts})\n",
    "# Cleanup\n",
    "df = df.dropna()\n",
    "df = df.drop_duplicates()\n",
    "df = df.loc[:299]\n",
    "# Save\n",
    "df.to_csv('../data/clean/nonfiction/case_law.csv', index=False)\n",
    "display(df)"
   ]
  },
  {
   "cell_type": "markdown",
   "id": "d62f26bd",
   "metadata": {},
   "source": [
    "# Spam Text"
   ]
  },
  {
   "cell_type": "code",
   "execution_count": 63,
   "id": "bc785799",
   "metadata": {},
   "outputs": [],
   "source": [
    "# DOWNLOAD NEEDED: Uncomment after you download the data\n",
    "\n",
    "df = pd.read_csv('../data/raw/colloquial/spam_email.csv')"
   ]
  },
  {
   "cell_type": "code",
   "execution_count": 64,
   "id": "2efb5a03",
   "metadata": {},
   "outputs": [
    {
     "name": "stdout",
     "output_type": "stream",
     "text": [
      " OG Emails Count: 39538\n"
     ]
    }
   ],
   "source": [
    "emails = make_df(0, 'label')\n",
    "print(f\" OG Emails Count: {len(emails)}\")\n",
    "emls_sampled = emails.sample(300).reset_index(drop=True)\n",
    "eml_spam = make_df(1, 'label')\n",
    "eml_spam_sampled = eml_spam.sample(150).reset_index(drop=True)"
   ]
  },
  {
   "cell_type": "code",
   "execution_count": 65,
   "id": "5309407f",
   "metadata": {},
   "outputs": [],
   "source": [
    "df = pd.read_csv('../data/raw/colloquial/spam_text.csv', encoding='ISO-8859-1')\n",
    "df = df[['v1','v2']].rename(columns={'v1':'label','v2':'text'})"
   ]
  },
  {
   "cell_type": "code",
   "execution_count": 66,
   "id": "96ddc409",
   "metadata": {},
   "outputs": [
    {
     "name": "stdout",
     "output_type": "stream",
     "text": [
      " OG Texts Count: 4825\n",
      " OG Spam Txt Count: 44657\n"
     ]
    }
   ],
   "source": [
    "texts = make_df('ham', 'label')\n",
    "print(f\" OG Texts Count: {len(texts)}\")\n",
    "txts_sampled = texts.sample(300).reset_index(drop=True)\n",
    "txt_spam = make_df('spam', 'label')\n",
    "print(f\" OG Spam Txt Count: {len(txt_spam)+len(eml_spam)}\")\n",
    "txt_spam_sampled = txt_spam.sample(150).reset_index(drop=True)"
   ]
  },
  {
   "cell_type": "code",
   "execution_count": 67,
   "id": "1f822737",
   "metadata": {},
   "outputs": [
    {
     "data": {
      "text/html": [
       "<div>\n",
       "<style scoped>\n",
       "    .dataframe tbody tr th:only-of-type {\n",
       "        vertical-align: middle;\n",
       "    }\n",
       "\n",
       "    .dataframe tbody tr th {\n",
       "        vertical-align: top;\n",
       "    }\n",
       "\n",
       "    .dataframe thead th {\n",
       "        text-align: right;\n",
       "    }\n",
       "</style>\n",
       "<table border=\"1\" class=\"dataframe\">\n",
       "  <thead>\n",
       "    <tr style=\"text-align: right;\">\n",
       "      <th></th>\n",
       "      <th>label</th>\n",
       "      <th>text</th>\n",
       "    </tr>\n",
       "  </thead>\n",
       "  <tbody>\n",
       "    <tr>\n",
       "      <th>0</th>\n",
       "      <td>email</td>\n",
       "      <td>special summer offer from canadianpharmacy esc...</td>\n",
       "    </tr>\n",
       "    <tr>\n",
       "      <th>1</th>\n",
       "      <td>email</td>\n",
       "      <td>legalrxmedications is a international online d...</td>\n",
       "    </tr>\n",
       "    <tr>\n",
       "      <th>2</th>\n",
       "      <td>email</td>\n",
       "      <td>victoria's secret r five hundred dollar gift c...</td>\n",
       "    </tr>\n",
       "    <tr>\n",
       "      <th>3</th>\n",
       "      <td>email</td>\n",
       "      <td>it is going to be huge search for asvpcurrent ...</td>\n",
       "    </tr>\n",
       "    <tr>\n",
       "      <th>4</th>\n",
       "      <td>email</td>\n",
       "      <td>products and great service all rolled up into ...</td>\n",
       "    </tr>\n",
       "    <tr>\n",
       "      <th>...</th>\n",
       "      <td>...</td>\n",
       "      <td>...</td>\n",
       "    </tr>\n",
       "    <tr>\n",
       "      <th>295</th>\n",
       "      <td>text</td>\n",
       "      <td>This message is free. Welcome to the new &amp; imp...</td>\n",
       "    </tr>\n",
       "    <tr>\n",
       "      <th>296</th>\n",
       "      <td>text</td>\n",
       "      <td>Free Msg: get Gnarls Barkleys \\Crazy\\\" rington...</td>\n",
       "    </tr>\n",
       "    <tr>\n",
       "      <th>297</th>\n",
       "      <td>text</td>\n",
       "      <td>Dear U've been invited to XCHAT. This is our f...</td>\n",
       "    </tr>\n",
       "    <tr>\n",
       "      <th>298</th>\n",
       "      <td>text</td>\n",
       "      <td>Thanks 4 your continued support Your question ...</td>\n",
       "    </tr>\n",
       "    <tr>\n",
       "      <th>299</th>\n",
       "      <td>text</td>\n",
       "      <td>This is the 2nd attempt to contract U, you hav...</td>\n",
       "    </tr>\n",
       "  </tbody>\n",
       "</table>\n",
       "<p>300 rows × 2 columns</p>\n",
       "</div>"
      ],
      "text/plain": [
       "     label                                               text\n",
       "0    email  special summer offer from canadianpharmacy esc...\n",
       "1    email  legalrxmedications is a international online d...\n",
       "2    email  victoria's secret r five hundred dollar gift c...\n",
       "3    email  it is going to be huge search for asvpcurrent ...\n",
       "4    email  products and great service all rolled up into ...\n",
       "..     ...                                                ...\n",
       "295   text  This message is free. Welcome to the new & imp...\n",
       "296   text  Free Msg: get Gnarls Barkleys \\Crazy\\\" rington...\n",
       "297   text  Dear U've been invited to XCHAT. This is our f...\n",
       "298   text  Thanks 4 your continued support Your question ...\n",
       "299   text  This is the 2nd attempt to contract U, you hav...\n",
       "\n",
       "[300 rows x 2 columns]"
      ]
     },
     "metadata": {},
     "output_type": "display_data"
    }
   ],
   "source": [
    "cc_spam = pd.concat([eml_spam_sampled, txt_spam_sampled]).reset_index(drop=True)\n",
    "key = {1:'email','spam':'text'}\n",
    "cc_spam['label'] = cc_spam['label'].map(key)\n",
    "cc_spam.to_csv('../data/clean/colloquial/spam_msgs_clean.csv', index=False)\n",
    "txts_sampled.to_csv('../data/clean/colloquial/txt_msgs_clean.csv', index=False)\n",
    "emls_sampled.to_csv('../data/clean/colloquial/email_msgs_clean.csv', index=False)\n",
    "display(cc_spam)"
   ]
  },
  {
   "cell_type": "markdown",
   "id": "bd2b058f",
   "metadata": {},
   "source": [
    "# Bible Prompts\n",
    "*These data were generated for this event, therefore they're preprocessed entirely"
   ]
  },
  {
   "cell_type": "code",
   "execution_count": 91,
   "id": "3bcfe6be",
   "metadata": {},
   "outputs": [
    {
     "data": {
      "text/plain": [
       "480"
      ]
     },
     "execution_count": 91,
     "metadata": {},
     "output_type": "execute_result"
    }
   ],
   "source": [
    "df = pd.read_csv('../data/raw/declarative/BiblePrompts.csv', index_col='Unnamed: 0')\n",
    "len(df)"
   ]
  },
  {
   "cell_type": "code",
   "execution_count": 92,
   "id": "6b31cad8",
   "metadata": {},
   "outputs": [
    {
     "data": {
      "text/html": [
       "<div>\n",
       "<style scoped>\n",
       "    .dataframe tbody tr th:only-of-type {\n",
       "        vertical-align: middle;\n",
       "    }\n",
       "\n",
       "    .dataframe tbody tr th {\n",
       "        vertical-align: top;\n",
       "    }\n",
       "\n",
       "    .dataframe thead th {\n",
       "        text-align: right;\n",
       "    }\n",
       "</style>\n",
       "<table border=\"1\" class=\"dataframe\">\n",
       "  <thead>\n",
       "    <tr style=\"text-align: right;\">\n",
       "      <th></th>\n",
       "      <th>original_text</th>\n",
       "      <th>rewrite_prompt</th>\n",
       "      <th>rewritten_text</th>\n",
       "    </tr>\n",
       "  </thead>\n",
       "  <tbody>\n",
       "    <tr>\n",
       "      <th>0</th>\n",
       "      <td>A strong wind was blowing and the waters grew ...</td>\n",
       "      <td>What is this about?</td>\n",
       "      <td>The text describes a strong wind and rough wat...</td>\n",
       "    </tr>\n",
       "    <tr>\n",
       "      <th>1</th>\n",
       "      <td>Do not say, Why were the old days better than...</td>\n",
       "      <td>Rewrite this in the style of Shakespeare</td>\n",
       "      <td>Sure, here's the rewritten text in the style o...</td>\n",
       "    </tr>\n",
       "    <tr>\n",
       "      <th>2</th>\n",
       "      <td>Then he told them, Now draw some out and take...</td>\n",
       "      <td>Please rephrase this to make it more clear</td>\n",
       "      <td>Sure, here's the rephrased version:\\r\\n\\r\\nThe...</td>\n",
       "    </tr>\n",
       "    <tr>\n",
       "      <th>3</th>\n",
       "      <td>In this meaningless life of mine I have seen ...</td>\n",
       "      <td>Can you turn this into a riddle?Rewrite this a...</td>\n",
       "      <td>**Riddle:**\\r\\n\\r\\nWhat is the fate of the rig...</td>\n",
       "    </tr>\n",
       "    <tr>\n",
       "      <th>4</th>\n",
       "      <td>How can you believe since you accept glory fro...</td>\n",
       "      <td>Convert this into a sermon</td>\n",
       "      <td>**Sermon: The Glory of God vs. the Glory of Ma...</td>\n",
       "    </tr>\n",
       "    <tr>\n",
       "      <th>...</th>\n",
       "      <td>...</td>\n",
       "      <td>...</td>\n",
       "      <td>...</td>\n",
       "    </tr>\n",
       "    <tr>\n",
       "      <th>295</th>\n",
       "      <td>When a Samaritan woman came to draw water, Je...</td>\n",
       "      <td>Make this rhyme.</td>\n",
       "      <td>Sure, here's the rhyme:\\r\\n\\r\\nWhen a Samarita...</td>\n",
       "    </tr>\n",
       "    <tr>\n",
       "      <th>296</th>\n",
       "      <td>Then John gave this testimony: I saw the Spiri...</td>\n",
       "      <td>Change the text so it means the oposite</td>\n",
       "      <td>Sure, here is the text changed to mean the opp...</td>\n",
       "    </tr>\n",
       "    <tr>\n",
       "      <th>297</th>\n",
       "      <td>If either of them falls down,\\r\\n    one can ...</td>\n",
       "      <td>Can you turn this into a riddle?Rewrite this a...</td>\n",
       "      <td>**Riddle:**\\r\\n\\r\\nTwo people are standing sid...</td>\n",
       "    </tr>\n",
       "    <tr>\n",
       "      <th>298</th>\n",
       "      <td>On the last and greatest day of the festival,...</td>\n",
       "      <td>Explain why this is wrong.</td>\n",
       "      <td>The text is from the Gospel of John (John 6:35...</td>\n",
       "    </tr>\n",
       "    <tr>\n",
       "      <th>299</th>\n",
       "      <td>Our ancestors worshiped on this mountain, but...</td>\n",
       "      <td>Convert this into an engaging story</td>\n",
       "      <td>Sure, here's the converted story:\\r\\n\\r\\nIn th...</td>\n",
       "    </tr>\n",
       "  </tbody>\n",
       "</table>\n",
       "<p>300 rows × 3 columns</p>\n",
       "</div>"
      ],
      "text/plain": [
       "                                         original_text  \\\n",
       "0    A strong wind was blowing and the waters grew ...   \n",
       "1     Do not say, Why were the old days better than...   \n",
       "2     Then he told them, Now draw some out and take...   \n",
       "3     In this meaningless life of mine I have seen ...   \n",
       "4    How can you believe since you accept glory fro...   \n",
       "..                                                 ...   \n",
       "295   When a Samaritan woman came to draw water, Je...   \n",
       "296  Then John gave this testimony: I saw the Spiri...   \n",
       "297   If either of them falls down,\\r\\n    one can ...   \n",
       "298   On the last and greatest day of the festival,...   \n",
       "299   Our ancestors worshiped on this mountain, but...   \n",
       "\n",
       "                                        rewrite_prompt  \\\n",
       "0                                  What is this about?   \n",
       "1             Rewrite this in the style of Shakespeare   \n",
       "2           Please rephrase this to make it more clear   \n",
       "3    Can you turn this into a riddle?Rewrite this a...   \n",
       "4                           Convert this into a sermon   \n",
       "..                                                 ...   \n",
       "295                                   Make this rhyme.   \n",
       "296            Change the text so it means the oposite   \n",
       "297  Can you turn this into a riddle?Rewrite this a...   \n",
       "298                         Explain why this is wrong.   \n",
       "299                Convert this into an engaging story   \n",
       "\n",
       "                                        rewritten_text  \n",
       "0    The text describes a strong wind and rough wat...  \n",
       "1    Sure, here's the rewritten text in the style o...  \n",
       "2    Sure, here's the rephrased version:\\r\\n\\r\\nThe...  \n",
       "3    **Riddle:**\\r\\n\\r\\nWhat is the fate of the rig...  \n",
       "4    **Sermon: The Glory of God vs. the Glory of Ma...  \n",
       "..                                                 ...  \n",
       "295  Sure, here's the rhyme:\\r\\n\\r\\nWhen a Samarita...  \n",
       "296  Sure, here is the text changed to mean the opp...  \n",
       "297  **Riddle:**\\r\\n\\r\\nTwo people are standing sid...  \n",
       "298  The text is from the Gospel of John (John 6:35...  \n",
       "299  Sure, here's the converted story:\\r\\n\\r\\nIn th...  \n",
       "\n",
       "[300 rows x 3 columns]"
      ]
     },
     "metadata": {},
     "output_type": "display_data"
    }
   ],
   "source": [
    "df = df.sample(300).reset_index(drop=True)\n",
    "df.to_csv('../data/clean/declarative/bible_clean.csv', index=False)\n",
    "display(df)"
   ]
  },
  {
   "cell_type": "code",
   "execution_count": 94,
   "id": "0a0578f9",
   "metadata": {},
   "outputs": [
    {
     "data": {
      "text/plain": [
       "0                                   What is this about?\n",
       "1              Rewrite this in the style of Shakespeare\n",
       "2            Please rephrase this to make it more clear\n",
       "3     Can you turn this into a riddle?Rewrite this a...\n",
       "4                            Convert this into a sermon\n",
       "6                            Explain why this is wrong.\n",
       "8               Change the text so it means the oposite\n",
       "11                     Convert this into modern english\n",
       "12                      Convert this into a sea shanty.\n",
       "17              Rewrite this so every fifth word is dog\n",
       "19                  Convert this into an engaging story\n",
       "25                         Rewrite this like Shakspeare\n",
       "27                              Turn this into a riddle\n",
       "31                    Explain this to me like I'm five.\n",
       "53                                 Make this about cats\n",
       "55                      Create a rap song from the text\n",
       "63                                     Make this rhyme.\n",
       "71                        Convert this into old english\n",
       "Name: rewrite_prompt, dtype: object"
      ]
     },
     "metadata": {},
     "output_type": "display_data"
    }
   ],
   "source": [
    "rw_df = df['rewrite_prompt'].drop_duplicates()\n",
    "rw_df.to_csv('../prompts/bible-prompts.csv', index=False)\n",
    "display(rw_df)"
   ]
  },
  {
   "cell_type": "markdown",
   "id": "f534fbd3",
   "metadata": {},
   "source": [
    "# Essays\n",
    "*These data were generated for this event, therefore they're preprocessed entirely"
   ]
  },
  {
   "cell_type": "code",
   "execution_count": 125,
   "id": "697aa5ae",
   "metadata": {},
   "outputs": [
    {
     "data": {
      "text/plain": [
       "2166"
      ]
     },
     "execution_count": 125,
     "metadata": {},
     "output_type": "execute_result"
    }
   ],
   "source": [
    "df = pd.read_csv('../data/raw/fiction/essays.csv')\n",
    "len(df)"
   ]
  },
  {
   "cell_type": "code",
   "execution_count": 126,
   "id": "304ee7fb",
   "metadata": {},
   "outputs": [
    {
     "data": {
      "text/html": [
       "<div>\n",
       "<style scoped>\n",
       "    .dataframe tbody tr th:only-of-type {\n",
       "        vertical-align: middle;\n",
       "    }\n",
       "\n",
       "    .dataframe tbody tr th {\n",
       "        vertical-align: top;\n",
       "    }\n",
       "\n",
       "    .dataframe thead th {\n",
       "        text-align: right;\n",
       "    }\n",
       "</style>\n",
       "<table border=\"1\" class=\"dataframe\">\n",
       "  <thead>\n",
       "    <tr style=\"text-align: right;\">\n",
       "      <th></th>\n",
       "      <th>original_text</th>\n",
       "      <th>rewrite_prompt</th>\n",
       "      <th>rewritten_text</th>\n",
       "    </tr>\n",
       "  </thead>\n",
       "  <tbody>\n",
       "    <tr>\n",
       "      <th>0</th>\n",
       "      <td>It was a typical Saturday night for me. My bud...</td>\n",
       "      <td>Use the bold and brash language of a Viking w...</td>\n",
       "      <td>It was a typical Saturday night for me, my ber...</td>\n",
       "    </tr>\n",
       "    <tr>\n",
       "      <th>1</th>\n",
       "      <td>`` Freeze!'' six of us yelled in unison, and m...</td>\n",
       "      <td>Write in the direct, authoritative tone of a ...</td>\n",
       "      <td>\"Attention all, cease your activities and free...</td>\n",
       "    </tr>\n",
       "    <tr>\n",
       "      <th>2</th>\n",
       "      <td>“ How does defeat taste, power rangers? I hope...</td>\n",
       "      <td>Write with Orwell's clarity and foresight, fo...</td>\n",
       "      <td>The echoes of Rita Repulsa's laughter reverber...</td>\n",
       "    </tr>\n",
       "    <tr>\n",
       "      <th>3</th>\n",
       "      <td>`` Do n't think of it as dying,'' he said, `` ...</td>\n",
       "      <td>Rewrite this in the style of a 1940s film noi...</td>\n",
       "      <td>\"Well, you ain't gonna believe what happened, ...</td>\n",
       "    </tr>\n",
       "    <tr>\n",
       "      <th>4</th>\n",
       "      <td>Cancer, old age, suicide. There are many ways ...</td>\n",
       "      <td>Use the lyrical and storytelling style of a m...</td>\n",
       "      <td>In this tale, I weave a story of a fateful enc...</td>\n",
       "    </tr>\n",
       "    <tr>\n",
       "      <th>...</th>\n",
       "      <td>...</td>\n",
       "      <td>...</td>\n",
       "      <td>...</td>\n",
       "    </tr>\n",
       "    <tr>\n",
       "      <th>295</th>\n",
       "      <td>Her gaze burned me beyond a burn \\n \\n Through...</td>\n",
       "      <td>Adopt King's knack for storytelling, blending...</td>\n",
       "      <td>The stench of decay lingered in the air, a sym...</td>\n",
       "    </tr>\n",
       "    <tr>\n",
       "      <th>296</th>\n",
       "      <td>The Adventures of I-Can't-Believe-That-Just-Ha...</td>\n",
       "      <td>Use the slick and tough language of a 1920s g...</td>\n",
       "      <td>Listen up, cuz I'm gonna tell you a story that...</td>\n",
       "    </tr>\n",
       "    <tr>\n",
       "      <th>297</th>\n",
       "      <td>He stood there, looking as his own grave. \\n \\...</td>\n",
       "      <td>Use the inventive and curious tone of a Victo...</td>\n",
       "      <td>In the quaint Victorian era, where innovation ...</td>\n",
       "    </tr>\n",
       "    <tr>\n",
       "      <th>298</th>\n",
       "      <td>As Gaius Vulpinus Rufinus rapidly tapped at hi...</td>\n",
       "      <td>Recast the essay with the optimism and specif...</td>\n",
       "      <td>As the clock glowed 0018sc, Gaius Vulpinus Ruf...</td>\n",
       "    </tr>\n",
       "    <tr>\n",
       "      <th>299</th>\n",
       "      <td>My eyes hurt and it feels strange. Now I remem...</td>\n",
       "      <td>Adopt the paranoid and speculative language o...</td>\n",
       "      <td>My eyes burn and it feels bizarre. I recall I ...</td>\n",
       "    </tr>\n",
       "  </tbody>\n",
       "</table>\n",
       "<p>300 rows × 3 columns</p>\n",
       "</div>"
      ],
      "text/plain": [
       "                                         original_text  \\\n",
       "0    It was a typical Saturday night for me. My bud...   \n",
       "1    `` Freeze!'' six of us yelled in unison, and m...   \n",
       "2    “ How does defeat taste, power rangers? I hope...   \n",
       "3    `` Do n't think of it as dying,'' he said, `` ...   \n",
       "4    Cancer, old age, suicide. There are many ways ...   \n",
       "..                                                 ...   \n",
       "295  Her gaze burned me beyond a burn \\n \\n Through...   \n",
       "296  The Adventures of I-Can't-Believe-That-Just-Ha...   \n",
       "297  He stood there, looking as his own grave. \\n \\...   \n",
       "298  As Gaius Vulpinus Rufinus rapidly tapped at hi...   \n",
       "299  My eyes hurt and it feels strange. Now I remem...   \n",
       "\n",
       "                                        rewrite_prompt  \\\n",
       "0     Use the bold and brash language of a Viking w...   \n",
       "1     Write in the direct, authoritative tone of a ...   \n",
       "2     Write with Orwell's clarity and foresight, fo...   \n",
       "3     Rewrite this in the style of a 1940s film noi...   \n",
       "4     Use the lyrical and storytelling style of a m...   \n",
       "..                                                 ...   \n",
       "295   Adopt King's knack for storytelling, blending...   \n",
       "296   Use the slick and tough language of a 1920s g...   \n",
       "297   Use the inventive and curious tone of a Victo...   \n",
       "298   Recast the essay with the optimism and specif...   \n",
       "299   Adopt the paranoid and speculative language o...   \n",
       "\n",
       "                                        rewritten_text  \n",
       "0    It was a typical Saturday night for me, my ber...  \n",
       "1    \"Attention all, cease your activities and free...  \n",
       "2    The echoes of Rita Repulsa's laughter reverber...  \n",
       "3    \"Well, you ain't gonna believe what happened, ...  \n",
       "4    In this tale, I weave a story of a fateful enc...  \n",
       "..                                                 ...  \n",
       "295  The stench of decay lingered in the air, a sym...  \n",
       "296  Listen up, cuz I'm gonna tell you a story that...  \n",
       "297  In the quaint Victorian era, where innovation ...  \n",
       "298  As the clock glowed 0018sc, Gaius Vulpinus Ruf...  \n",
       "299  My eyes burn and it feels bizarre. I recall I ...  \n",
       "\n",
       "[300 rows x 3 columns]"
      ]
     },
     "metadata": {},
     "output_type": "display_data"
    }
   ],
   "source": [
    "df = df[['original_text','rewrite_prompt','rewritten_text']]\n",
    "rws = df['rewrite_prompt']\n",
    "df['rewrite_prompt'] = pd.DataFrame({'prompts':[x.split(':')[1] for x in rws]})\n",
    "df = df.sample(300).reset_index(drop=True)\n",
    "df.to_csv('../data/clean/declarative/essays_clean.csv', index=False)\n",
    "display(df)"
   ]
  },
  {
   "cell_type": "code",
   "execution_count": 127,
   "id": "c8b06bb9",
   "metadata": {},
   "outputs": [
    {
     "data": {
      "text/plain": [
       "0       Use the bold and brash language of a Viking w...\n",
       "1       Write in the direct, authoritative tone of a ...\n",
       "2       Write with Orwell's clarity and foresight, fo...\n",
       "3       Rewrite this in the style of a 1940s film noi...\n",
       "4       Use the lyrical and storytelling style of a m...\n",
       "                             ...                        \n",
       "244     Rewrite the text as a fairy tale, complete wi...\n",
       "248     Recast the essay as a tale from the American ...\n",
       "267     Embrace the whimsical and rhyming style of Dr...\n",
       "273     Write with the cunning and secretive style of...\n",
       "280     Write as though you were a medieval peasant, ...\n",
       "Name: rewrite_prompt, Length: 100, dtype: object"
      ]
     },
     "metadata": {},
     "output_type": "display_data"
    }
   ],
   "source": [
    "rw_df = df['rewrite_prompt'].drop_duplicates()\n",
    "rw_df.to_csv('../prompts/essay-prompts.csv', index=False)\n",
    "display(rw_df)"
   ]
  },
  {
   "cell_type": "markdown",
   "id": "34415fc2",
   "metadata": {},
   "source": [
    "# Alfred Hitchcock"
   ]
  },
  {
   "cell_type": "code",
   "execution_count": 166,
   "id": "ae66be56",
   "metadata": {},
   "outputs": [
    {
     "data": {
      "text/plain": [
       "153"
      ]
     },
     "execution_count": 166,
     "metadata": {},
     "output_type": "execute_result"
    }
   ],
   "source": [
    "df = pd.read_csv('../data/raw/fiction/WikiAH.csv')\n",
    "len(df)"
   ]
  },
  {
   "cell_type": "code",
   "execution_count": 167,
   "id": "027ce331",
   "metadata": {},
   "outputs": [
    {
     "data": {
      "text/html": [
       "<div>\n",
       "<style scoped>\n",
       "    .dataframe tbody tr th:only-of-type {\n",
       "        vertical-align: middle;\n",
       "    }\n",
       "\n",
       "    .dataframe tbody tr th {\n",
       "        vertical-align: top;\n",
       "    }\n",
       "\n",
       "    .dataframe thead th {\n",
       "        text-align: right;\n",
       "    }\n",
       "</style>\n",
       "<table border=\"1\" class=\"dataframe\">\n",
       "  <thead>\n",
       "    <tr style=\"text-align: right;\">\n",
       "      <th></th>\n",
       "      <th>text</th>\n",
       "      <th>label</th>\n",
       "    </tr>\n",
       "  </thead>\n",
       "  <tbody>\n",
       "    <tr>\n",
       "      <th>0</th>\n",
       "      <td>Chicken farmer Arthur Williams (Harvey) deligh...</td>\n",
       "      <td>152</td>\n",
       "    </tr>\n",
       "    <tr>\n",
       "      <th>1</th>\n",
       "      <td>When convicted robber Jackie Blake (Hickman) i...</td>\n",
       "      <td>157</td>\n",
       "    </tr>\n",
       "    <tr>\n",
       "      <th>2</th>\n",
       "      <td>Inspector Benson (Moore) is tasked with preven...</td>\n",
       "      <td>158</td>\n",
       "    </tr>\n",
       "    <tr>\n",
       "      <th>3</th>\n",
       "      <td>When Jeff Jensen (Persoff) is non-fatally atta...</td>\n",
       "      <td>158</td>\n",
       "    </tr>\n",
       "    <tr>\n",
       "      <th>4</th>\n",
       "      <td>While traveling on a plane, war correspondent ...</td>\n",
       "      <td>159</td>\n",
       "    </tr>\n",
       "    <tr>\n",
       "      <th>...</th>\n",
       "      <td>...</td>\n",
       "      <td>...</td>\n",
       "    </tr>\n",
       "    <tr>\n",
       "      <th>148</th>\n",
       "      <td>Aware that their friend Professor Rankin's (Em...</td>\n",
       "      <td>296</td>\n",
       "    </tr>\n",
       "    <tr>\n",
       "      <th>149</th>\n",
       "      <td>James Barrett (Gaines) busily plans for his ab...</td>\n",
       "      <td>296</td>\n",
       "    </tr>\n",
       "    <tr>\n",
       "      <th>150</th>\n",
       "      <td>Hugo (De Wilde) is a mentally challenged boy w...</td>\n",
       "      <td>296</td>\n",
       "    </tr>\n",
       "    <tr>\n",
       "      <th>151</th>\n",
       "      <td>Private investigator Cutter (Hanmer) visits mo...</td>\n",
       "      <td>297</td>\n",
       "    </tr>\n",
       "    <tr>\n",
       "      <th>152</th>\n",
       "      <td>Lyle Endicott (McGavin) exchanges barbs with h...</td>\n",
       "      <td>297</td>\n",
       "    </tr>\n",
       "  </tbody>\n",
       "</table>\n",
       "<p>153 rows × 2 columns</p>\n",
       "</div>"
      ],
      "text/plain": [
       "                                                  text  label\n",
       "0    Chicken farmer Arthur Williams (Harvey) deligh...    152\n",
       "1    When convicted robber Jackie Blake (Hickman) i...    157\n",
       "2    Inspector Benson (Moore) is tasked with preven...    158\n",
       "3    When Jeff Jensen (Persoff) is non-fatally atta...    158\n",
       "4    While traveling on a plane, war correspondent ...    159\n",
       "..                                                 ...    ...\n",
       "148  Aware that their friend Professor Rankin's (Em...    296\n",
       "149  James Barrett (Gaines) busily plans for his ab...    296\n",
       "150  Hugo (De Wilde) is a mentally challenged boy w...    296\n",
       "151  Private investigator Cutter (Hanmer) visits mo...    297\n",
       "152  Lyle Endicott (McGavin) exchanges barbs with h...    297\n",
       "\n",
       "[153 rows x 2 columns]"
      ]
     },
     "metadata": {},
     "output_type": "display_data"
    }
   ],
   "source": [
    "df = df[['text','token_count']].rename(columns={'token_count':'label'})\n",
    "df.to_csv('../data/clean/fiction/wikiAH_clean.csv')\n",
    "display(df)"
   ]
  },
  {
   "cell_type": "markdown",
   "id": "01fc9262",
   "metadata": {},
   "source": [
    "# Hella Swag"
   ]
  },
  {
   "cell_type": "code",
   "execution_count": 164,
   "id": "88215443",
   "metadata": {},
   "outputs": [
    {
     "data": {
      "text/plain": [
       "6000"
      ]
     },
     "execution_count": 164,
     "metadata": {},
     "output_type": "execute_result"
    }
   ],
   "source": [
    "df = pd.read_csv('../data/raw/misc/hellaslog.csv')\n",
    "len(df)"
   ]
  },
  {
   "cell_type": "code",
   "execution_count": 165,
   "id": "f584344a",
   "metadata": {},
   "outputs": [
    {
     "data": {
      "text/html": [
       "<div>\n",
       "<style scoped>\n",
       "    .dataframe tbody tr th:only-of-type {\n",
       "        vertical-align: middle;\n",
       "    }\n",
       "\n",
       "    .dataframe tbody tr th {\n",
       "        vertical-align: top;\n",
       "    }\n",
       "\n",
       "    .dataframe thead th {\n",
       "        text-align: right;\n",
       "    }\n",
       "</style>\n",
       "<table border=\"1\" class=\"dataframe\">\n",
       "  <thead>\n",
       "    <tr style=\"text-align: right;\">\n",
       "      <th></th>\n",
       "      <th>text</th>\n",
       "    </tr>\n",
       "  </thead>\n",
       "  <tbody>\n",
       "    <tr>\n",
       "      <th>0</th>\n",
       "      <td>A small dog is in a tub, and woman uses a spra...</td>\n",
       "    </tr>\n",
       "    <tr>\n",
       "      <th>1</th>\n",
       "      <td>They take turns inhaling and exhaling the smok...</td>\n",
       "    </tr>\n",
       "    <tr>\n",
       "      <th>2</th>\n",
       "      <td>The man kneels down and shoes the camera the b...</td>\n",
       "    </tr>\n",
       "    <tr>\n",
       "      <th>3</th>\n",
       "      <td>Two men are sitting on a table plaing rock pap...</td>\n",
       "    </tr>\n",
       "    <tr>\n",
       "      <th>4</th>\n",
       "      <td>Two girls prepares to jump rope, then the girl...</td>\n",
       "    </tr>\n",
       "    <tr>\n",
       "      <th>...</th>\n",
       "      <td>...</td>\n",
       "    </tr>\n",
       "    <tr>\n",
       "      <th>295</th>\n",
       "      <td>Men run to cover behind the protectors while s...</td>\n",
       "    </tr>\n",
       "    <tr>\n",
       "      <th>296</th>\n",
       "      <td>A woman is seen standing with a tied up dog ou...</td>\n",
       "    </tr>\n",
       "    <tr>\n",
       "      <th>297</th>\n",
       "      <td>A group of people are in the backyard of a hou...</td>\n",
       "    </tr>\n",
       "    <tr>\n",
       "      <th>298</th>\n",
       "      <td>Kids are shown in side of a gym playing indoor...</td>\n",
       "    </tr>\n",
       "    <tr>\n",
       "      <th>299</th>\n",
       "      <td>The man in the light blue shirt gets into posi...</td>\n",
       "    </tr>\n",
       "  </tbody>\n",
       "</table>\n",
       "<p>300 rows × 1 columns</p>\n",
       "</div>"
      ],
      "text/plain": [
       "                                                  text\n",
       "0    A small dog is in a tub, and woman uses a spra...\n",
       "1    They take turns inhaling and exhaling the smok...\n",
       "2    The man kneels down and shoes the camera the b...\n",
       "3    Two men are sitting on a table plaing rock pap...\n",
       "4    Two girls prepares to jump rope, then the girl...\n",
       "..                                                 ...\n",
       "295  Men run to cover behind the protectors while s...\n",
       "296  A woman is seen standing with a tied up dog ou...\n",
       "297  A group of people are in the backyard of a hou...\n",
       "298  Kids are shown in side of a gym playing indoor...\n",
       "299  The man in the light blue shirt gets into posi...\n",
       "\n",
       "[300 rows x 1 columns]"
      ]
     },
     "metadata": {},
     "output_type": "display_data"
    }
   ],
   "source": [
    "df = df.sample(300).reset_index(drop=True)\n",
    "df = pd.DataFrame({'text':df['sentences']})\n",
    "df.to_csv('../data/clean/misc/hellaSwag_clean.csv', index=False)\n",
    "display(df)"
   ]
  },
  {
   "cell_type": "markdown",
   "id": "75c1e5d8",
   "metadata": {},
   "source": [
    "# Psalms"
   ]
  },
  {
   "cell_type": "code",
   "execution_count": 190,
   "id": "4aa4d47d",
   "metadata": {},
   "outputs": [
    {
     "data": {
      "text/plain": [
       "807"
      ]
     },
     "execution_count": 190,
     "metadata": {},
     "output_type": "execute_result"
    }
   ],
   "source": [
    "df = pd.read_csv('../data/raw/prose/Psalm100-150NLT.csv')\n",
    "df = df['text'].drop_duplicates()\n",
    "len(df)"
   ]
  },
  {
   "cell_type": "code",
   "execution_count": 191,
   "id": "5899c9b6",
   "metadata": {},
   "outputs": [
    {
     "data": {
      "text/html": [
       "<div>\n",
       "<style scoped>\n",
       "    .dataframe tbody tr th:only-of-type {\n",
       "        vertical-align: middle;\n",
       "    }\n",
       "\n",
       "    .dataframe tbody tr th {\n",
       "        vertical-align: top;\n",
       "    }\n",
       "\n",
       "    .dataframe thead th {\n",
       "        text-align: right;\n",
       "    }\n",
       "</style>\n",
       "<table border=\"1\" class=\"dataframe\">\n",
       "  <thead>\n",
       "    <tr style=\"text-align: right;\">\n",
       "      <th></th>\n",
       "      <th>text</th>\n",
       "    </tr>\n",
       "  </thead>\n",
       "  <tbody>\n",
       "    <tr>\n",
       "      <th>0</th>\n",
       "      <td>Here is the ocean, vast and wide,\\n    teemin...</td>\n",
       "    </tr>\n",
       "    <tr>\n",
       "      <th>1</th>\n",
       "      <td>Shout with joy to the Lord, all the earth!</td>\n",
       "    </tr>\n",
       "    <tr>\n",
       "      <th>2</th>\n",
       "      <td>I have chosen to be faithful;\\n    I have det...</td>\n",
       "    </tr>\n",
       "    <tr>\n",
       "      <th>3</th>\n",
       "      <td>O Lord, what a variety of things you have mad...</td>\n",
       "    </tr>\n",
       "    <tr>\n",
       "      <th>4</th>\n",
       "      <td>Praise the Lord, the God of Israel,\\n    who ...</td>\n",
       "    </tr>\n",
       "    <tr>\n",
       "      <th>...</th>\n",
       "      <td>...</td>\n",
       "    </tr>\n",
       "    <tr>\n",
       "      <th>295</th>\n",
       "      <td>He turned the rock into a pool of water;\\n   ...</td>\n",
       "    </tr>\n",
       "    <tr>\n",
       "      <th>296</th>\n",
       "      <td>My daily task will be to ferret out the wicke...</td>\n",
       "    </tr>\n",
       "    <tr>\n",
       "      <th>297</th>\n",
       "      <td>I will praise you every day;\\n    yes, I will...</td>\n",
       "    </tr>\n",
       "    <tr>\n",
       "      <th>298</th>\n",
       "      <td>Lift your hands toward the sanctuary,\\n    an...</td>\n",
       "    </tr>\n",
       "    <tr>\n",
       "      <th>299</th>\n",
       "      <td>Then Pharaoh sent for him and set him free;\\n...</td>\n",
       "    </tr>\n",
       "  </tbody>\n",
       "</table>\n",
       "<p>300 rows × 1 columns</p>\n",
       "</div>"
      ],
      "text/plain": [
       "                                                  text\n",
       "0     Here is the ocean, vast and wide,\\n    teemin...\n",
       "1           Shout with joy to the Lord, all the earth!\n",
       "2     I have chosen to be faithful;\\n    I have det...\n",
       "3     O Lord, what a variety of things you have mad...\n",
       "4     Praise the Lord, the God of Israel,\\n    who ...\n",
       "..                                                 ...\n",
       "295   He turned the rock into a pool of water;\\n   ...\n",
       "296   My daily task will be to ferret out the wicke...\n",
       "297   I will praise you every day;\\n    yes, I will...\n",
       "298   Lift your hands toward the sanctuary,\\n    an...\n",
       "299   Then Pharaoh sent for him and set him free;\\n...\n",
       "\n",
       "[300 rows x 1 columns]"
      ]
     },
     "metadata": {},
     "output_type": "display_data"
    }
   ],
   "source": [
    "text = text.sample(300).reset_index(drop=True)\n",
    "df = pd.DataFrame({'text':text})\n",
    "df.to_csv('../data/clean/prose/psalms_clean.csv', index=False)\n",
    "display(df)"
   ]
  }
 ],
 "metadata": {
  "kernelspec": {
   "display_name": "bootcampDev",
   "language": "python",
   "name": "bootcampdev"
  },
  "language_info": {
   "codemirror_mode": {
    "name": "ipython",
    "version": 3
   },
   "file_extension": ".py",
   "mimetype": "text/x-python",
   "name": "python",
   "nbconvert_exporter": "python",
   "pygments_lexer": "ipython3",
   "version": "3.11.7"
  }
 },
 "nbformat": 4,
 "nbformat_minor": 5
}
